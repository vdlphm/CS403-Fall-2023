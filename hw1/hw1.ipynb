{
  "cells": [
    {
      "cell_type": "markdown",
      "metadata": {
        "id": "view-in-github",
        "colab_type": "text"
      },
      "source": [
        "<a href=\"https://colab.research.google.com/github/DARoSLab/CS403-Intro-Robotics/blob/main/hws/hw1/hw1.ipynb\" target=\"_parent\"><img src=\"https://colab.research.google.com/assets/colab-badge.svg\" alt=\"Open In Colab\"/></a>"
      ]
    },
    {
      "cell_type": "markdown",
      "source": [
        "##**Homework 1 Planar Manipulator**\n",
        "There three questions in this homework. We have given you a starter code for all the questions. You only need to fillout the missing parts marked with \"Fill in your code here\"."
      ],
      "metadata": {
        "id": "z6NJXa-db0Rz"
      }
    },
    {
      "cell_type": "markdown",
      "source": [
        "# The Two-link Planar Manipulator \n",
        "\n",
        "\n",
        "<img src=\"https://raw.githubusercontent.com/RussTedrake/manipulation/master/figures/exercises/planar_two_link.png\" width=\"700\">\n",
        "\n",
        "\n",
        "\n"
      ],
      "metadata": {
        "id": "zGzK9PCRdhAP"
      }
    },
    {
      "cell_type": "code",
      "execution_count": null,
      "source": [
        "# python libraries\n",
        "import numpy as np\n",
        "import matplotlib.pyplot as plt\n",
        "import seaborn as sns\n",
        "from matplotlib import animation\n",
        "from IPython.display import HTML\n",
        "%matplotlib inline"
      ],
      "outputs": [],
      "metadata": {
        "id": "x9_4IU-fcOaB"
      }
    },
    {
      "cell_type": "markdown",
      "source": [
        "\n",
        "# Q.1 Derive the forward kinematics of the above two DoF planar manipulator.[10 pts]\n"
      ],
      "metadata": {
        "id": "rJe18sEhtrH6"
      }
    },
    {
      "cell_type": "code",
      "execution_count": null,
      "source": [
        "def forward_kinematics(q, l1=1, l2=1):\n",
        "  q0, q1 = q \n",
        "  x = # Fill your code here\n",
        "  y = # Fill your code here \n",
        "  return np.array([x,y])"
      ],
      "outputs": [],
      "metadata": {
        "id": "U0_SpmSGjCek"
      }
    },
    {
      "cell_type": "markdown",
      "source": [
        "**You can use the provided function below to visualize the robot. It depends on your implementation of the forward kinematics function.**\n"
      ],
      "metadata": {
        "id": "ID5D93clqizu"
      }
    },
    {
      "cell_type": "code",
      "source": [
        "def plot_planar_manipulator(q, l1, l2, eff_path=None):\n",
        "  fig= plt.figure(figsize=(10,10))\n",
        "  ax = plt.subplot(1,1,1)   \n",
        "\n",
        "  link1, = ax.plot([], [], 'b', lw=10)     # ax.plot returns a list of 2D line objects\n",
        "  link2, = ax.plot([], [], 'r', lw=10)\n",
        "  eff, = ax.plot([], [], 'g', marker='o', markersize=15)\n",
        "  if eff_path is not None:\n",
        "    ep, = ax.plot(eff_path[:, 0], eff_path[:, 1], 'g-') \n",
        "  ax.set_xlim(( -2.5, 2.5))            \n",
        "  ax.set_ylim((-2.5, 2.5))\n",
        "  txt_title = ax.set_title('')\n",
        "  def drawFrame(k):\n",
        "    k = 100*k\n",
        "    q0, q1 = q[k]\n",
        "\n",
        "    rA = [0, 0]\n",
        "    rB = [l1*np.cos(q0), l2*np.sin(q0)]\n",
        "    rC = forward_kinematics(q[k, :], l1, l2)\n",
        "\n",
        "    link1.set_data([rA[0], rB[0]], [rA[1], rB[1]])\n",
        "    link2.set_data([rB[0], rC[0]], [rB[1], rC[1]])\n",
        "    eff.set_data([rC[0], rC[0]],[rC[1], rC[1]])\n",
        "    return link1, link2, eff\n",
        "  anim = animation.FuncAnimation(fig, drawFrame, frames=75, interval=100, blit=True)\n",
        "  return anim\n",
        "\n"
      ],
      "metadata": {
        "id": "0EEGpKrz0E5T"
      },
      "execution_count": null,
      "outputs": []
    },
    {
      "cell_type": "code",
      "source": [
        "def test_forward_kinematics():\n",
        "  \"\"\"\n",
        "  Test function for Forward kinematics\n",
        "  \"\"\"\n",
        "  test_configurations = np.zeros((4, 2))\n",
        "  test_configurations[:, 0] = np.linspace(0, np.pi, 4)\n",
        "  test_configurations[:, 1] = np.linspace(0, np.pi, 4)\n",
        "  test_res = np.zeros((4, 2))\n",
        "  sol = np.array([[ 2.00000000e+00, 0.00000000e+00],\n",
        "                  [ 3.33066907e-16,  1.73205081e+00],\n",
        "                  [-1.00000000e+00,  3.33066907e-16],\n",
        "                  [ 0.00000000e+00, -1.22464680e-16]])\n",
        "  for i in range(4):\n",
        "    test_res[i, :] = forward_kinematics(test_configurations[i])\n",
        "  if np.allclose(test_res, sol):\n",
        "    print('Your FK implementation is correct!!')\n",
        "  else:\n",
        "    print('FK implemenation is wrong!')"
      ],
      "metadata": {
        "id": "zDuAg4W5weIj"
      },
      "execution_count": null,
      "outputs": []
    },
    {
      "cell_type": "code",
      "source": [
        "test_forward_kinematics()"
      ],
      "metadata": {
        "id": "NToZUf0nxZPt"
      },
      "execution_count": null,
      "outputs": []
    },
    {
      "cell_type": "code",
      "execution_count": null,
      "source": [
        "N = 8000\n",
        "L1 = 1\n",
        "L2 = 1\n",
        "q1 = np.linspace(0, np.pi/4, N)\n",
        "q2 = np.linspace(0, np.pi/2, N)\n",
        "q = np.zeros((N, 2))\n",
        "q[:, 0] = q1\n",
        "q[:, 1] = q2\n",
        "anim = plot_planar_manipulator(q, L1, L2)\n",
        "HTML(anim.to_html5_video())"
      ],
      "outputs": [],
      "metadata": {
        "id": "iUcSZTmrmzmL"
      }
    },
    {
      "cell_type": "markdown",
      "source": [
        "# Q.2 Derive the analytical Inverse kinematics of the above two DoF manipulator.[20 pts]"
      ],
      "metadata": {
        "id": "pglV1KjVvAb9"
      }
    },
    {
      "cell_type": "code",
      "source": [
        "def inverse_kinematics(x, y, l1, l2):\n",
        "  q1 = #fill in your code here \n",
        "  q0 = #fill in your code here \n",
        "  return np.array([q0, q1])"
      ],
      "metadata": {
        "id": "ZNUZDWuvvIDg"
      },
      "execution_count": null,
      "outputs": []
    },
    {
      "cell_type": "code",
      "source": [
        "def test_inverse_kinematics(l1, l2):\n",
        "  \"\"\"\n",
        "  Test function for Inverse Kinematics\n",
        "  \"\"\"\n",
        "  x = 0.7 + np.linspace(0, 0.1, 4)\n",
        "  y = 0.7 + np.linspace(0, 0.1, 4)\n",
        "  sol = np.array([[-0.2675924,   2.10598112],\n",
        "                  [-0.24024978,  2.05129588],\n",
        "                  [-0.21244591,  1.99568815],\n",
        "                  [-0.18413395, 1.93906422]])\n",
        "  test_res = inverse_kinematics(x, y, l1, l2).T\n",
        "  if np.allclose(test_res, sol):\n",
        "    print('Your IK implementation is correct!!')\n",
        "  else:\n",
        "    print('Yours: ', test_res)\n",
        "    print('Soln: ', sol)\n",
        "    print('IK implemenation is wrong!')"
      ],
      "metadata": {
        "id": "ly8AYXE_74W6"
      },
      "execution_count": null,
      "outputs": []
    },
    {
      "cell_type": "markdown",
      "source": [
        "**You can check the correctness of your code by calling the provided test function**"
      ],
      "metadata": {
        "id": "r60oB4DdKHH4"
      }
    },
    {
      "cell_type": "code",
      "source": [
        "test_inverse_kinematics(L1, L2)"
      ],
      "metadata": {
        "id": "OkeW6-ol8rJb"
      },
      "execution_count": null,
      "outputs": []
    },
    {
      "cell_type": "markdown",
      "source": [
        "# Q.3 Trace a circle with the end-effector of the robot [5 pts]\n"
      ],
      "metadata": {
        "id": "rueqQERkwVcf"
      }
    },
    {
      "cell_type": "markdown",
      "source": [
        "**Trace a circle of radius $r = 0.4$ with origin at $(0.7, 0.7)$ with the end-effector of the robot.**\n",
        "\n",
        "**Hint: Use the following definition of the equation of a cicle of raduis $r$ and origin at $(x_0, y_0)$.** \n",
        "$$x = x_0 + r*cos(\\theta)$$\n",
        "$$x = y_0 + r*sin(\\theta)$$\n",
        "Where $\\theta \\in [0, 2\\pi]$"
      ],
      "metadata": {
        "id": "uE7oJCS5-h2c"
      }
    },
    {
      "cell_type": "markdown",
      "source": [
        "**Plot q1 and q2** "
      ],
      "metadata": {
        "id": "_gUzgUuFJiK9"
      }
    },
    {
      "cell_type": "code",
      "source": [
        "r = 0.4\n",
        "theta = np.linspace(0, 2*np.pi, N) \n",
        "x = #fill in your code\n",
        "y = #fill in your code\n",
        "q_ik = inverse_kinematics(x, y, 1, 1).T\n",
        "#Plot q1\n",
        "#fill your code here\n",
        "#Plot q2\n",
        "#fill your code here\n",
        "plt.show()\n"
      ],
      "metadata": {
        "id": "9wJI-zBrvh_c"
      },
      "execution_count": null,
      "outputs": []
    },
    {
      "cell_type": "markdown",
      "source": [
        "**Animate the manipulator**"
      ],
      "metadata": {
        "id": "wixc6It-J3s4"
      }
    },
    {
      "cell_type": "code",
      "source": [
        "anim = plot_planar_manipulator(q_ik, L1, L2, eff_path=np.array([x,y]).T)\n",
        "HTML(anim.to_html5_video())"
      ],
      "metadata": {
        "id": "ncFqFwJsJHEi"
      },
      "execution_count": null,
      "outputs": []
    }
  ],
  "metadata": {
    "celltoolbar": "Tags",
    "colab": {
      "collapsed_sections": [],
      "name": "Copy of planar_manipulator.ipynb",
      "provenance": [],
      "include_colab_link": true
    },
    "kernelspec": {
      "display_name": "Python 3",
      "language": "python",
      "name": "python3"
    },
    "language_info": {
      "codemirror_mode": {
        "name": "ipython",
        "version": 3
      },
      "file_extension": ".py",
      "mimetype": "text/x-python",
      "name": "python",
      "nbconvert_exporter": "python",
      "pygments_lexer": "ipython3",
      "version": "3.6.9"
    }
  },
  "nbformat": 4,
  "nbformat_minor": 0
}