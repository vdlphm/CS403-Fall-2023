{
  "cells": [
    {
      "cell_type": "markdown",
      "source": [
        "##**Homework 1 Planar Manipulator**\n",
        "There three questions in this homework. We have given you a starter code for all the questions. You only need to fillout the missing parts marked with \"Fill in your code here\"."
      ],
      "metadata": {
        "id": "z6NJXa-db0Rz"
      }
    },
    {
      "cell_type": "markdown",
      "source": [
        "# The Two-link Planar Manipulator \n",
        "\n",
        "\n",
        "<img src=\"https://raw.githubusercontent.com/RussTedrake/manipulation/master/figures/exercises/planar_two_link.png\" width=\"700\">\n",
        "\n",
        "\n",
        "\n"
      ],
      "metadata": {
        "id": "zGzK9PCRdhAP"
      }
    },
    {
      "cell_type": "code",
      "execution_count": 2,
      "source": [
        "# python libraries\n",
        "import numpy as np\n",
        "import matplotlib.pyplot as plt\n",
        "import seaborn as sns\n",
        "from matplotlib import animation\n",
        "from IPython.display import HTML\n",
        "%matplotlib inline"
      ],
      "outputs": [],
      "metadata": {
        "id": "x9_4IU-fcOaB"
      }
    },
    {
      "cell_type": "markdown",
      "source": [
        "\n",
        "# Q.1 Derive the forward kinematics of the above two DoF planar manipulator.[10 pts]\n"
      ],
      "metadata": {
        "id": "rJe18sEhtrH6"
      }
    },
    {
      "cell_type": "code",
      "execution_count": 16,
      "source": [
        "def forward_kinematics(q, l1=1, l2=1):\n",
        "  q0, q1 = q\n",
        "  x = l1 * np.cos(q0) + l2 * np.cos(q0 + q1) # Fill your code here\n",
        "  y = l2 * np.sin(q0) + l2 * np.sin(q0 + q1) # Fill your code here \n",
        "  return np.array([x,y])"
      ],
      "outputs": [],
      "metadata": {
        "id": "U0_SpmSGjCek"
      }
    },
    {
      "cell_type": "markdown",
      "source": [
        "**You can use the provided function below to visualize the robot. It depends on your implementation of the forward kinematics function.**\n"
      ],
      "metadata": {
        "id": "ID5D93clqizu"
      }
    },
    {
      "cell_type": "code",
      "source": [
        "def plot_planar_manipulator(q, l1, l2, eff_path=None):\n",
        "  fig= plt.figure(figsize=(10,10))\n",
        "  ax = plt.subplot(1,1,1)   \n",
        "\n",
        "  link1, = ax.plot([], [], 'b', lw=10)     # ax.plot returns a list of 2D line objects\n",
        "  link2, = ax.plot([], [], 'r', lw=10)\n",
        "  eff, = ax.plot([], [], 'g', marker='o', markersize=15)\n",
        "  if eff_path is not None:\n",
        "    ep, = ax.plot(eff_path[:, 0], eff_path[:, 1], 'g-') \n",
        "  ax.set_xlim(( -2.5, 2.5))            \n",
        "  ax.set_ylim((-2.5, 2.5))\n",
        "  txt_title = ax.set_title('')\n",
        "  def drawFrame(k):\n",
        "    k = 100*k\n",
        "    q0, q1 = q[k]\n",
        "\n",
        "    rA = [0, 0]\n",
        "    rB = [l1*np.cos(q0), l2*np.sin(q0)]\n",
        "    rC = forward_kinematics(q[k, :], l1, l2)\n",
        "\n",
        "    link1.set_data([rA[0], rB[0]], [rA[1], rB[1]])\n",
        "    link2.set_data([rB[0], rC[0]], [rB[1], rC[1]])\n",
        "    eff.set_data([rC[0], rC[0]],[rC[1], rC[1]])\n",
        "    return link1, link2, eff\n",
        "  anim = animation.FuncAnimation(fig, drawFrame, frames=75, interval=100, blit=True)\n",
        "  return anim\n",
        "\n"
      ],
      "metadata": {
        "id": "0EEGpKrz0E5T"
      },
      "execution_count": 17,
      "outputs": []
    },
    {
      "cell_type": "code",
      "source": [
        "def test_forward_kinematics():\n",
        "  \"\"\"\n",
        "  Test function for Forward kinematics\n",
        "  \"\"\"\n",
        "  test_configurations = np.zeros((4, 2))\n",
        "  test_configurations[:, 0] = np.linspace(0, np.pi, 4)\n",
        "  test_configurations[:, 1] = np.linspace(0, np.pi, 4)\n",
        "  test_res = np.zeros((4, 2))\n",
        "  sol = np.array([[ 2.00000000e+00, 0.00000000e+00],\n",
        "                  [ 3.33066907e-16,  1.73205081e+00],\n",
        "                  [-1.00000000e+00,  3.33066907e-16],\n",
        "                  [ 0.00000000e+00, -1.22464680e-16]])\n",
        "  for i in range(4):\n",
        "    test_res[i, :] = forward_kinematics(test_configurations[i])\n",
        "  if np.allclose(test_res, sol):\n",
        "    print('Your FK implementation is correct!!')\n",
        "  else:\n",
        "    print('FK implemenation is wrong!')"
      ],
      "metadata": {
        "id": "zDuAg4W5weIj"
      },
      "execution_count": 18,
      "outputs": []
    },
    {
      "cell_type": "code",
      "source": [
        "test_forward_kinematics()"
      ],
      "metadata": {
        "id": "NToZUf0nxZPt",
        "outputId": "1c5ccf6d-c670-4ca1-ac5a-f4ff6f0e237d",
        "colab": {
          "base_uri": "https://localhost:8080/"
        }
      },
      "execution_count": 19,
      "outputs": [
        {
          "output_type": "stream",
          "name": "stdout",
          "text": [
            "Your FK implementation is correct!!\n"
          ]
        }
      ]
    },
    {
      "cell_type": "code",
      "execution_count": 20,
      "source": [
        "N = 8000\n",
        "L1 = 1\n",
        "L2 = 1\n",
        "q1 = np.linspace(0, np.pi/4, N)\n",
        "q2 = np.linspace(0, np.pi/2, N)\n",
        "q = np.zeros((N, 2))\n",
        "q[:, 0] = q1\n",
        "q[:, 1] = q2\n",
        "anim = plot_planar_manipulator(q, L1, L2)\n",
        "HTML(anim.to_html5_video())"
      ],
      "outputs": [
        {
          "output_type": "execute_result",
          "data": {
            "text/plain": [
              "<IPython.core.display.HTML object>"
            ],
            "text/html": [
              "<video width=\"720\" height=\"720\" controls autoplay loop>\n",
              "  <source type=\"video/mp4\" src=\"data:video/mp4;base64,AAAAHGZ0eXBNNFYgAAACAGlzb21pc28yYXZjMQAAAAhmcmVlAABuLm1kYXQAAAKuBgX//6rcRem9\n",
              "5tlIt5Ys2CDZI+7veDI2NCAtIGNvcmUgMTUyIHIyODU0IGU5YTU5MDMgLSBILjI2NC9NUEVHLTQg\n",
              "QVZDIGNvZGVjIC0gQ29weWxlZnQgMjAwMy0yMDE3IC0gaHR0cDovL3d3dy52aWRlb2xhbi5vcmcv\n",
              "eDI2NC5odG1sIC0gb3B0aW9uczogY2FiYWM9MSByZWY9MyBkZWJsb2NrPTE6MDowIGFuYWx5c2U9\n",
              "MHgzOjB4MTEzIG1lPWhleCBzdWJtZT03IHBzeT0xIHBzeV9yZD0xLjAwOjAuMDAgbWl4ZWRfcmVm\n",
              "PTEgbWVfcmFuZ2U9MTYgY2hyb21hX21lPTEgdHJlbGxpcz0xIDh4OGRjdD0xIGNxbT0wIGRlYWR6\n",
              "b25lPTIxLDExIGZhc3RfcHNraXA9MSBjaHJvbWFfcXBfb2Zmc2V0PS0yIHRocmVhZHM9MyBsb29r\n",
              "YWhlYWRfdGhyZWFkcz0xIHNsaWNlZF90aHJlYWRzPTAgbnI9MCBkZWNpbWF0ZT0xIGludGVybGFj\n",
              "ZWQ9MCBibHVyYXlfY29tcGF0PTAgY29uc3RyYWluZWRfaW50cmE9MCBiZnJhbWVzPTMgYl9weXJh\n",
              "bWlkPTIgYl9hZGFwdD0xIGJfYmlhcz0wIGRpcmVjdD0xIHdlaWdodGI9MSBvcGVuX2dvcD0wIHdl\n",
              "aWdodHA9MiBrZXlpbnQ9MjUwIGtleWludF9taW49MTAgc2NlbmVjdXQ9NDAgaW50cmFfcmVmcmVz\n",
              "aD0wIHJjX2xvb2thaGVhZD00MCByYz1jcmYgbWJ0cmVlPTEgY3JmPTIzLjAgcWNvbXA9MC42MCBx\n",
              "cG1pbj0wIHFwbWF4PTY5IHFwc3RlcD00IGlwX3JhdGlvPTEuNDAgYXE9MToxLjAwAIAAAAbGZYiE\n",
              "ABD//veBvzLLXyK6yXH5530srM885DxyXYmuuNAAAAMAAAMAAAMB+8C/gSCcz9Z0IAAAAwM6AJCB\n",
              "NwT9I+lxSZ/wAT9k1x4OToMSsUazIsSC7Ie8Z0aKaiwAKlL3j+/6kBUPqq4k0Gpc8jVG84LnlvMW\n",
              "AACRA9+XPyacsLVMFNlqEXabj3rlgvdcVB8VWXl8vUCBJveZtGnIQ2KQLsuwyY4w2yy9ilqShd19\n",
              "0Im1hrNa6Bc65XQ5YLvA5sSBYvpOL26vTP76ZcopEGAc2jdbP/kdPtPcKAnSKPeDuqD3czLpAJK5\n",
              "PycVb8HOx4UCzBegzgnAAAWpb0IdBukleBwg7w/7c8O7iZzyFPgzyMweOOrwuIxRqeXo8tcvweXj\n",
              "C2Spa7FPr/iSAWJ+HDAscbfzqy0a8q4NdmlHDNy1u0bGd54eZ4EYIxTIBDhGMwAAAwAAAwAASXw8\n",
              "w47lclEW7T5ZdNhfTXWPZqm4TCPDTx8zgzWkRBTl0rJYOkxPPGhS7FCLlX4WA7OUIBvTRNhp4y52\n",
              "X3s9SnSQyN7JOz71n/NW0RtlabxTMgr7FKQevYN0eEe//jW1ubPEs7aXCQMbv8WOUHlzlGgEbw6v\n",
              "J5ACOc14Bl6AopEc9jd6UlM3/fFxo/9tImASYl+aP6S5HM0EBK03jUGh7GFTVuk2kgmyJjrPO+L0\n",
              "es+9pA2dY1JoMm654SkFBRtNu6C89bAzMWYvhLfzL+BkRehLuj9IWTgna36hr3f5cozGGBH27MdV\n",
              "fa+tOKoxuMcPHJD+pRlQSACnx+D4G42xPlmmzYbnvea5H8LV5zaroABz7w2xzXDqocXoBRkKOxHx\n",
              "Yy6lW0o70x3Y6KKmvPhJ43pm86uHO2Gk/o+X0XfmZufOmCrBavSvWAJOO+xCqUOYXlVCi9/f2kaY\n",
              "x8o1QpWNRNL7r0T+caTqZq2/f8io0AbjMsPA18OqQXfYKBAoPgaPOmhdo4MEDFlrKfxrKVqlZgsX\n",
              "viXmdjwfYu0S+k6jl/GrkO6tsXNAimfyjAnvIgCbUAECLX39HpThM5kbkn920rjj2EZCEWVOoISH\n",
              "OM/6wFW76K2V/KSGSaO4y0Zafu272HlTIs+tvpffrxm6KziR90k/j6F31+1UTmTYsZhlQztiIyOd\n",
              "uS1Roin3WxuA8nmcx1VsgAAg8jehCmFtsOHLmdqN8P3q0RojHvmbFIG+5jgP4kAAAAMAN4AyZeBV\n",
              "Doy2S9WdZpG71qPfH2RACTqT/xeNO75xnZV8uxCbiSyIovB60jNVObRNIPZLTp/D+5wZG9XLuquF\n",
              "Lm4JwnFExvEWC9YKQutzM9ktC9C9hzj4xZ8J+UsuEIW9AaEwnMe8RVFB1THBaLqAOY9jfMwHdGZ5\n",
              "Zte9cIAAAAMAAAMAAAMAAbkORzYCxfd3q78vYgr6JXy+Hdnjo18CGilftj5+id50gUAZeqq1Vnha\n",
              "yN3hmYXoTMl0ppBsYi8DrD6XREiEHAAr94cwUWylf5pqcYQIyw+i7OLqRuWhoxpAKDrtweaEOxM1\n",
              "PSBHpOnc0oHPFfpgCabgAAADAAeX38rh5k0u2lAwhOoAXAjtQ6QbSSOpJrcBb9mV9iYSa2jHqnJC\n",
              "Xa5SecmEGBePCml5KSyHPx0xl7aWVUi8x7GYXjjevX4iDYEoNBwIrv4kvP+68JwodB2yc/A7hnAh\n",
              "N8wz50zbx5/qY8Sz4ijYtycm6IMuZoJNQQJZdUL4mqtB4TddD/LmPdknc6VkYMaAHUkLNCSHrlhb\n",
              "U4azQhrCqaIDYQZwChE2u3jXuBU1u7PVxrier+65i2y9Iu+PAwtCZVGKmIjHQstX1ryfzPGMSvDo\n",
              "EMery3KPmIGvrhiUXcmUcWog2UO5C5jG32jqb5Ajfy7ufY5neAqj38zMJUj1WnWWsWp5FVjryKVG\n",
              "XUYceRZ3W7elx/p2H59lOhHWG4HXvg4EEXzyh2UFj+XenAwVOQuG+m8OLKgWMeaJPPbTaCUceuQK\n",
              "GF1NulJT9lRMVTY/Imi5JxJl6OGOq2UWIvRC1M/feQrWRsE2u/qwnSDwUg1mOZFXUi76XQv41oLE\n",
              "H5DdmFFT8+UtK617QZ//7VqcKflkGQLnQD+KH6AdQyjSlQRzHd+0p7KYMC6PB2vyVJVMNIIgF39g\n",
              "XkX1NNlGrnu3ByhTngDS2al+z6ILSeVMbIHG5G4YrnVvhZ5yPqka/RDomuj/rJ/M68tZvctWARnw\n",
              "Hy5/RmEyVJtMYTFlXIiPy66Laupv9gyMlqiuWsFw5CSBE0HMy+22Er/0viCG3eZihrWE1oNOWNm0\n",
              "h/LoBVU2NsJAuSAAAJSAAAADABbRAAAC50GaImxBH/61KoAAAAMAAAhC9GFQnH5rTmVyQqUkY+oz\n",
              "VzJvMdmdMHMtgSGrNI1/donMe9iK1CHP7gp+mIwyPDzGqReOGzcgnMeCaWLTZ8hMOmVPAbU+sHEP\n",
              "AJx8SZSJ5wMiOaCU3UD0gjLO3tyzNLbNeogbokwhOamvyH917S8v8eMehVDFKgWIWLJ97e/h30Od\n",
              "vl+NkQYNyBsfaZIxvFthxmYppMCu1nklmaLo1K+ee91R3zPooXoswYSGNgOKqxQTOHgkrJuiLZ2V\n",
              "AOQsXKDBLYOASZfWctEXQr6jsBP0anuyms4QqCRu9vUZfohyIrlI2LxrW9YkJDnfDKdBLPQNKx54\n",
              "l29L6PwutVYPiv759iTyFN3zWolryIK52A8ZkYs41T2NOR3ysK0Kea2NQ2qcf0Q3jPx7V6LGPbZU\n",
              "4e39/SSfLKI65bDayOf6RJGqCVm5i0shtKfrZnvFxqVH4MENwLgGLxkuouxqpdch7WulxVYqWMiD\n",
              "meYrI4IfGV+gOqfzblZo0JMY2KjENhKdMgNrmCKx8H8GjIMvGwQZqBAqaY8NStDyvqc7NjpXSZei\n",
              "3MqEhyo/UcW8O4uwjewnIEmkIRksv/tDYeF8UOcPj1uZ6CUZWceBKNJcp0hNyMnSBbkXG/Eo0U7O\n",
              "mo3ZO3W5wTlNFOQkBjtzDIIXx7t1J8G9UEmYgwHyn/b2xqbDr4JwARMW+1DDikEjRsQUyLjBOCWY\n",
              "5gUU0bo1++IPP1nlsnmbkuHTf/9nrQVlzvIsSVluH79xdS+l/BwQCoSyQ634jVbVgr1ULPixV2oD\n",
              "eqdvAS5+R7F5p8kdHegkp2rv53hzdFkwrI06Hss9s9bI+vE7kpMRHkXPjxjd53JcW/AphtiJQNRk\n",
              "cfr1wZhEKG+yk0jpYmzMh20GV2EQu6agpcMbdpZmjs297U3M5IbF9HwfrkEbyHseGvigORRJCktk\n",
              "VCLv2e3uk0PEK5rL0o8nzugSCZMHPbkhFw6oAAAAmwGeQXkN/wAAAwAAAwArMOddt+kikR7KAIGB\n",
              "dgHISqRrfI3AVDUycAn3zqUPj3GhnaD1zLOufIPq8EQcv/Qv9y0l1USzEjI+HoktyzigQsrL0CV4\n",
              "IEIlPUAcJjTYISeIehiCxiMsfGqKxDKl7R2eHPkhpT8BHgyZpUVTEOkhUvuWu1r1l9PG3ml3Un7c\n",
              "VqvNBrQDSO0AAAXRWCXhAAACMEGaRDwhkymEEf/+tSqAAAADAAAUL/EDNIAEqDCpc2NF03EaQm8D\n",
              "/P8J6HseD/npd0y4L9aBFL1XGX5Wub3EaTRK6ox01/pOHuY4qIW80yyEbMfHPa6V2xiJQ7orGCgm\n",
              "/iV9sroQnLcGZVOJQavLN4o4WKwlJ0dvfeHRcdneaqfL0Kl6IWF0hnB+bpt4BgEaj2z670N7/x4Y\n",
              "5H2IO8nsS1l7WDfNcZ8k4IY7TzcEgNv61i82LwvqaobF2AeeRE8cYEbJ9ndoA616n0+ZZcWKX6XQ\n",
              "h+9ExVRLPSD4QHgPKO/pNhODaPW7BuUAkafrPft6jtcF0f2Fg4x4YBiiQktwwXpU6R/OGTGRTnbA\n",
              "CvPPx+agxz9WqX6PbLtD1uM2KV9WtOtqg0pU16CoYUeIKCTlykFc8gx5SR+rqFMEtkyUdZDf/2I/\n",
              "JaiHwU6AlWD+N36LNLRMJjATra9iLxVnWOEzV6enKkT2BMwCVH5BJPNJr9aOQEvi08h8o+f6qlKH\n",
              "C0qHioe95+Lu4in94bymm1HySPHLonB3FhsLdUftNLke6QSmzHmZp6wBSjz95HZI3IH+gRf499K4\n",
              "HhHlJS4zRjgFNzCIzzNoOd+zUqOZYtUMJGj7oYN6Rpw8LHMePi0MDKMCDHEqfTcmLSMFHp5TXLAc\n",
              "gj9RwWzGa5cI+FlZHfV8PBKO+76shMg5AKb+2p4+ZwM9X7lPvpmgFDXJYWT/pPJ5dGb4HXJt06HU\n",
              "n4IcC1GVcPWqAAAAhwGeY2pDfwAAAwAAAwBsC6TIQY05nfDdnIU8OlGdEabr8Nx0/Ybaq3N3fYYz\n",
              "lTd/MqRaoiSxj0oaM0r9KABzWZ69cGl6HlBo0x6L+/ZDG5AZ2vPfhx1d81fdEf/HygKkXfpqaK7K\n",
              "EGv3T5VDWmHX9KjfClGwmL2donqW4KxacYytUAABUJdCpwAAAvZBmmhJ4Q8mUwII//61KoAAAAMA\n",
              "AD0pUbMEmWNG4ADMq81RREQ8Bt3wH+ihp5+uZgdne6rWOiep2M54PTR88eTWNtR/lAowsWhajXG0\n",
              "yXT64Ikz/BZv+EtrmRF3l8HzjeVOVwbuZCbV3SdAC73yanQ5gbvyN10SaqSHGQ2LWaTzLURCmGtA\n",
              "TAFen2Dt7QVk71KwhP2ZsLPKgzjfnwwx1pf0o43HdFeGwKb6RSKU4eb3qL8XcbcS9CgkEdRr97eJ\n",
              "TxkJyM3jKQ+ge3pjB0DHIuNXNktYflUw2+dLaf/B6JKVbyhcT/XL4x1+FxRZ+jTFiHbnhPxPKbPh\n",
              "VDcWUBnZVfOYhLs275IA2srUUsRC2BgkEWqZYaBiLRGtC/6sYcF0MDNd4q8gA9UV8XBGKq4BCdhj\n",
              "GcmsYFrOPraHqryNbhS+c9EKOyv9lNHFE5+Fvt3CKVdQisIoypIxe4oR5Q7PMjQQLRPhtpdoUiYX\n",
              "K3I4P+D0HWYgtkn5zMPXTjs2U9yrjPMjxzaU7mGFAm6CMN5q8SR7Q/jpjPFDc5w/ciXwJq0nYsOR\n",
              "j3t/ZyJG+zqodLsXCSQbalIyVIrMtou1PfZwY6xaLelkCCHSv19/Xc1JXxz/X3MyycY2OG16c9vk\n",
              "mxIbr4Mas0DkarkfVKQ0gyo9isLXCCj/uyqjMpf3CfjcPSZwItNzJXg6tXKofeiNVGIg896WYm38\n",
              "S6FYyuFS79TCMRX4bG0ewx0ZvJ2VmvBpD8ZUe8HwXKnXvljpIn00urna7ffA5WsgOdMhxl6KSW/K\n",
              "XSB7cfgnxpgH87LgRk0m8I/DQSGimrAb+RSMAvg3xqRx6ExySKDm8kJzu4B6Jxjky00Qf+Xb458e\n",
              "6ZiunxI2D94fAV1Zf4LYYAcNTZbW8x8NkycfybcvpWgk/TchGZUu0TzdD6NmxPWtazo7WnCKnNao\n",
              "70GEpKBvnJ7l8Qe2zvkh5jHj45/Qg44gaYmGjX/Zhzkt1iszumlmGyxtcvkxehCWxLlj9sU7oQAA\n",
              "AN9BnoZFETw7/wAAAwAAAwD0f3dEEwqWbk/BJULUde0GY752pcTLGoDRnJyFKh4XwQDWEZk4m05Q\n",
              "1vxguEeKedqqosbvw8BtTv/HhUDHErmiI0qPC0wHI43wU8S5U+MzxSgo6GBML4MrJ6fRN9f/asNl\n",
              "JF8Fy2cDzVwD1l0rxAZzOEixbVTDWK9mgr+zBWzSI7sv6u3Faot+hwe5vkPbW7MRaU6/9DEWIfox\n",
              "lBbZH+0g0nejrvHo14jIwVEVZSITl2CwPhepXAj+aYyCMK5fBeGwAADqo9RMYPRHN2TZBAuJAAAA\n",
              "dwGepXRDfwAAAwAAAwB0D31lOITJ42/L7A2Zcm0zGQP0jPkgb4v9UpUNoJTcVwPRTkUs3sxoFVkS\n",
              "zVk59qNBVPrTz89cLt1ZO1z+AizWlQBVdQB6GEcL+MwSPInO4CHwAKNFLFtmOZxRctjUVndi/Blg\n",
              "AAADALiBAAAAfgGep2pDfwAAAwAAAwFiefI51XJcog5QwZxSCFMVofv3doSIFx1CPviUURXY8qFF\n",
              "uCCA1Ash5LNlhgL6F0YaRRaAznUBtM8L7ZLgyOw7f8nt+ucm2UF5T8UjNi8eWfT2Uv/isgdZi31i\n",
              "WX3jrx00AotIlCDqQWPAAAAo3V1CpgAAAvVBmqxJqEFomUwII//+tSqAAAADAADLf1cA0WIE/DVG\n",
              "cWX9GBf8wWJYXiD1CiDZgwyjSOnkb0pgTlbIt+7I538QrgyDPl4HsLxAO8sVBsr5qGsU7Z5Jes6k\n",
              "8AfrPJTaybgsKeJWpW2sgz1gbwFrVMcHasJBHd2C66hsPSP75cHtFbqUCQ+ADWokaukdPnA3w+xI\n",
              "RH3Y96/LXTUBcyF6EU3L4Atvv/n3zvQ1zztRQIDUirlyVNvd09fWETOnZXGWBSCb75p+aN+tmS1D\n",
              "ATl9NDJ5FfHTiV27WBaEtPi2I/rSlt5ero+ipp4Il3XZw5Doi02OlbmYPtGDX9TQOLJBgIBoQthI\n",
              "kTSJjjkJR6lKREfkf+HrMlve3XPYzH8VZ23Ao569ef+CK5mIT3yJjWo1gfWLumV/TXTYOzXy1QqD\n",
              "qGWsNHmSGA24mB4jPgTB91FENZR9adtt1QPlvz3zWBOIiK/aenaGAzjcjk333ZHabsEZ5xUL+v0Z\n",
              "gH0lqw275fXhSWLd52e6+oKRgAp8B5hhMPYCF97bUtPStSTO8ab1eQXHHA2lDUnZmaos3Dam3KbM\n",
              "tPvOcmbOIBTXhYgoomhWWWveH0L7nbOEKDD2ibrN2w74G8sUySZxtT//nRsbjVPtqItWx6o6ZTPe\n",
              "bvB17luPogbLdHD7CDocbumd6KUYidM+bEBqMv1lz81Qap8MROMHwpVAcmuwwI1ORDTHWwMThnLs\n",
              "5v4ZhSTfGUbMIiJN8UqocgwAwbZ5RD/2iN2yjeGdBRi+taH6tzO5pzGS0uwtDaJnP8mfLuCV5IDz\n",
              "bSufT8S3ThwR3KBzDNnvMSMgQ/8vXgmrJq9zxQkstJKCTlB4UTd3HB2l9AVFsp0kTvCf4jlm2JqM\n",
              "FgUrNXzp0muGX021+bdrhnBn1TlgbkCIuztVL4ldeQ0r/f7CItLIwI/lDUm6Ly1rfOA2EoOyEuVP\n",
              "AXE23v4eZw3u3cw1CxWYaaF94eUuVP8p/UX9inIx91//3KzT3z0x4gVcAAAAqkGeykURLDv/AAAD\n",
              "AAADAwII/7Xl5qce4Gfg+itF8RZpUb92Yi/Iozq1CqZUejFAsY+V0NJmctxvZ9Jsb5bjoAwm/Q4D\n",
              "fuuVylz01So2z2DfsUARZ8PN/xZBqTQ1g2JRbFe294iqieAF1WvmjcM93EZtvfuW97xPsMdr8Bta\n",
              "oD5odQ3adXIClVcECBglkdqeckLafU+9ceAuV1412atAAAgu0jyhb16ywBixAAAAbgGe6XRDfwAA\n",
              "AwAAAwFriOnepryQ4EzaujbLOYE2Ch9/sixLYF+ON71EPynkFwZ80ADg7fwng+Ei2l5tSadiPhsS\n",
              "3ZVGksssk/j0SMpsetz59F0Ixr+1eca65dvT5YnBD0lIb4DHkR+AAAADAMaAAAAAjwGe62pDfwAA\n",
              "AwAABDa9ARGAV7h+LMCjof2jItKbqhgA+aibUNM79X8thZFBkLk1ZNT4JPERiG2STQdYsgEw0mNz\n",
              "CNsqLOawrhJWUYz40aEFN3mDTORiL6R8TrMh+g0pCyvsP9tVhB2WuFj4pdNE3qYxdxC95gGXfjv8\n",
              "AhlcqMyFqHVN36GfAAAHmmsHSAMCAAADD0Ga8EmoQWyZTAgh//6qVQAAAwAABQOSeRRGNdz/4vQ7\n",
              "pL+Cl3irvOSpXH3yJu8vfIiyg4SKUHWBykxo8kIbSmoDGfZosSjf5/zckVn8+JiDccfUS9f94SyB\n",
              "drTjMAq+7sUqDo2uycco9/QsA16nAsVme+oc3+iXOMzyAaOXVk3UNq18GjVqcJfEthb/ebybU3IF\n",
              "Rh4rlyVji7ttngtTxu4KhYcV114WRuVilAFW5I8lOv3nJGr+qcYuaWRSe+U0a8POt8zYc3MoS5Nh\n",
              "7bZlsRQKtEvMM/N8wwJs4GP2jOiM1PjPzc0qLKiTF/BguWfgJ8q/IUVDzJBUNDQbotbZIaCxWKqo\n",
              "loljMytWMltL/W50Bx8+a4y097Z2yuNTSlFSIW5jnAZOCVwor9je9yqOzHTl+ibn3RlRoiRIObK/\n",
              "SYCQgMOFLUkWN/R9ZC6fZR52kbAYazCkq4ZJQIqmDbfowJDhJbKTvACWiAIJDpBQQL7rlMznMU9l\n",
              "MeoP4PcvnTlhNeeiBXwm6BKWRsZbTdMpL6HZe+9cOnrRwmpDQixpd8CzsUO3KG2XQ6QAy4U2qkJ9\n",
              "yFWjy/I9XNXHiEVwJTWtEPh9aWxFFEhnt0j50niT1eIFpacizwE0YpSNE4DIVwXclZTfkr6bKNZy\n",
              "w+yNmyVmv93olzX5ovi974+2ybXU9/yrMGg0RLb6vOJGpLBSVt6diwoRcGIdZe4c2VeGvFxVDNQR\n",
              "qkb55Hg03uXlXKQCXYR4iIHH3fwHgFEFuSOnNagsOiW6frRTCtNUYafDL9FEkPgAlU78JmU9j6Dn\n",
              "eohnLjKpxZigbtYQ6ngXCJ9pwoQAwUbIwRxDU+oXoMiJdZRG6mxs1+8QxxPAOMNFHqOFH3tPX1E8\n",
              "3hcK2Lj1w0qJsy0TwNs9bA+acFgZ2UOK0UaAhc/FislyBUP/UtNK5KQ+OKzySmYj8aox1yPt3j1O\n",
              "pnF/i/tFeFCkaBMflVBhiM2VeNN9ns2+9Kf4mQ8I817FLdO1UjqqLjPYvqqaufsM83Jhi9Vbpttn\n",
              "LljsdHyzxcgABwAAAN5Bnw5FFSw7/wAAAwAACcR/XqcXoeAEJf4aVxp58xSUsMtY8xzIiZO81Y+G\n",
              "G13uUuw4Q2ypa3lhqm3Xbj0K3gVJErmeNM2JfrLttVA8Hm9wIGbE9+TOI3eN0jeGm9VH4Zfqb60e\n",
              "SMsVg39qMMW3gYL3aJi06Zdeh3IXajCo+S0zti/56E/t3vtY4TN2onw/A0u+GkGG34HkI0Uy82aB\n",
              "7dKO/St+3Q8INTPUAvnbZvYhywcacAArfmA3zMEWgNbbVxSL//Hf6viKnyCFxwh+kbdjWuyVlgAA\n",
              "GzaEpAQ0A/0AAACMAZ8tdEN/AAADAAAEdvBagCvpKdXUUiY1yhelC1fMX8+Ox+cmSqzo23YAHLz/\n",
              "hgDF8alkm82PMP9oW0xoI1MN1kO8skewFF0hgEISECYFfIWrsmE0Etgpz8BiDENATzgtI+ZLbzKq\n",
              "jWu5NljsrmSSVcZ1LcFf4/P6ovRI/U3TYuop9yXZOoUQAAADATcAAAB7AZ8vakN/AAADAAAN0XSY\n",
              "/jMXgF529K4TQYAC1WqN5rLquferlpBcGSUxVBzcjVLg2bX/eqX7dkf8KuEMrjJOOSxRCx0d7eOr\n",
              "pqj4ul/Lsgj5m07NgZUh82da8OemmCMwWYLT4EfQLW/TvW0WLFqGgjfua3kAAA5EshFwAAACP0Gb\n",
              "MkmoQWyZTBRMEf/+tSqAAAADAAKXxH/BOwQCk3pkz6BLLpVgkNVY24MNakf+pXWxK0zU0knlroHQ\n",
              "gVFfwSBLcicfozY+qcFlmnBaazIxxsZ3PuHgKourFjbxUMbLc9y9W85rQ8Ok2d8EgkC2Sagc8QHU\n",
              "lu/refLgW28Mau+JPJ7RK0M84mntMkKUiD3/gKbd39KZdv+uzuTzgxo9teM+Vl6fOgxTCC0yXMkA\n",
              "Su0xBq7Tpc20Qrno9Qr8nieON+Z1un1tolhs13TrwAxE8wh1Wm6mXJS2uHazQyN7LvGxaJeshsws\n",
              "r3eA8sZ2YgpzjYaVWpgPnkdOq7UOc7R2y6YR+iXH+Nsm0vYE9/bxslMReL1VwBuZt/Bl5hvJciUS\n",
              "L/bLqtDQOPc+HmzKX7QvwtzfJ0RW4zt37h2ybkNfNhwcseCaYOAOmoOQ0w3yQOeF6cv6sukMvkyo\n",
              "mMmLmIcy1MRWL+Z1rHOsKq962MHanGRHRQrbRa6BNeCamzSwW2lTGiWsUPfW0gXkXsQbCaFwKC5a\n",
              "wfculiqXn2dJyKdV4RLnBP9D34lvEcxT5Wjo77h9PG//TY8OoLbqWdvlzS701n8njs1/n4Baghif\n",
              "La6BVNoh31Zk998mAXpm7pP289HDA5/acV/Kv5FnoUVOBzC7TgOoTa5mFkxK8zn61f3DdHmI3c7G\n",
              "GRq/Umxp677wAp/rGrIhj2vCJ4ibH4oS+5GHDo7zi4DzrYop2ipPxFi+jx7TvFcoXC+SHe3OnbGh\n",
              "2ATCAAAAggGfUWpDfwAAAwAADik9/kuay9sCZ8HHBa4FnC7Y8Wh/EviPzcFAA4Hw6igY9pjgzQD7\n",
              "3rQKJQ6XwzLCZMVhmn7PmG1JU50noe78sLPIRgnGRTeIhJXkUSJoGz796pYG1NncnFqtnZoglTE6\n",
              "whEFA5mr0EmJB6/lT6cAAAzlhHakoIEAAAJHQZtUSeEKUmUwUsEf/rUqgAAAAwAHzcBpcQop0t3+\n",
              "rgGrwenUGFS/7UM161KqunYyuSEiz2FoZDZAyIk09B5e1walagv69YIqQMt/46uMgrflu6Jpkr6U\n",
              "IdrCqqmbWsuTtxAGGha9xPdn32l95p9lx8xA0i0NxN1V92q6t6Dfzt84JEY5fzWJo6v6MVhwY05r\n",
              "jrt4a+2zLUN/Z6yHVZXbMb+6k1GQ3rapPWLYlERvTVRLK00p2p+1MapKL7tixk+20f4J1dZNQcXC\n",
              "JvDVFj+J+SoFupL/IbLxYIWiwB0b92XUpI6JYnIAdqK/2XeUm909XuOc/x4+D39+FZHEaFVs43U5\n",
              "ee0lhuBV+fyLTrFggFCck6A47+YBrBYvHcCJS/Qfuf4b0S6UBaqBJLKED0WjBjribJ3++ZWifU/R\n",
              "Ydpv/mynDRyCjoBS8KiUb9qjZgkTm/tbLtdGZrlFf7xQnLcwCOXmTVINsXqti7AIiogCh5kxzbEq\n",
              "Wj1CvkIPVv+j90vI32dBqmu0x5Y3Dk85OiBxm9+TSoGB5FowL8gIzsd6KpttDG6pbdrSIaDl/sXL\n",
              "z24j+BZXxUBVe/Yvn0FSQrgqRBj96HszDuyULGDpd6z51blPTuJKMVueSTi9mVUV3eJ2smPTwoDw\n",
              "aVRjFkVYYaHhrSXfGcYqbSUK244Dts+MQnMg1HeEVgWHXaTG6Db0L6dOW2Rap0WdT/PnbCn5DUqP\n",
              "xRMKx0zTBAobqCnpCEZVLRCl87QRbzC6lYPty14AP19rEjC6aTMtYAAAAIQBn3NqQ38AAAMAACxP\n",
              "PkiGywg6xXX/36DxLgA2TYWRo/xlEvng6+yGHAG259GC+1Gt+s5LAbkAGJ5C4QM2oGhk33WpnQVE\n",
              "1D9FKiA1qv9e/fo2DrjjEM9FtKA5FMjJnDBJRpRWsrUUhvE3XxIl1m1KsDr/XsH4bbx0KAU5JiAA\n",
              "AUfpsP8AAALiQZt4SeEOiZTAgj/+tSqAAAADABns2cbJ99uOFMMFtH+w8C5jgqFcviET4AtNDbkL\n",
              "fv+mtW5Ny5mVRl86ofDWJs3gBKLvb566dzIEb8GoasqhSGvXiJC36xQvCWfqaQK1AH4pd4gTlegz\n",
              "H6pRFsZRJMv6qJEPHGw7LLbPtUU+pFWlXrg2h2tTcQnbQB+36gieNE5gfxhb4fLuwHXoFppuiBcf\n",
              "V4pecfpQGCN/XQLDOVvHWQ3955YJD1/02Y/LxjNNfd/ilRlEyZaJu3ItJgzh/RJPhEsAjuSG3b9P\n",
              "BoxsZgwIzrcBzJ0no+SBLE7v8HPfRE+Ep2SUiOOwCrIuJaow39S3ip6jv84ZOTUv4CQ4Rfn17/iW\n",
              "KOWVRhLBrMc+zBJU9SGbpA7n6JzhMhLG7OMLPZKywmbjqH0a0wELzuRCib/HYMsu/gAKbzi24T0N\n",
              "76rWC5m8Ryy8vKAH7kDogRlTvFKMCQTi8xhnijTTxZ9akcak16vvHOqww9I87OBhcuxPoa+PjDaj\n",
              "pDHrOBe96QoD2Ss17P59+797cSZMT10Vt7iVfYKidcXD8ULydZXtnDKUwOn9EfI8VBEXUw8cKIF3\n",
              "olZlUEIkuHkjoXqxNO+eiOxuxNhGTl8TNHhAMUBM00FuEuHkFm1gt4S8Ttd41IQdGriTx6GR6DoA\n",
              "tWkTUEHY2WRQkcvPeSWT7FF+4ukIrgoWKOQniYHiAAUVzOWwgSfN/TQGQmGSLbMY5a5u9MF+8k2/\n",
              "FaCqZHHDy0Q+/Lom7xM1SDW0TXNSJCwMo18gj9B5cPnZQq6Su5c59g44ikja9MSTXEy+IBqkrXTD\n",
              "eSNK+CTbjGfsMM9UgSQsVpMkDpXEVVlHgbp1h86koGL6TQj/paS1mfN8ZvqM4dFlUqJbWf3OIkDn\n",
              "RT/FUJjVK5IdVzaVQtOeoR4Qme3zyiru2i2upWF3hDS+kqMlzYbeICA9F/vfkpsJ5+G/kZ6goqdw\n",
              "XWmtnpOBAAAA4EGflkUVPDv/AAADAABlQR/2tL0hfJi3XanY+lgBmy+4Hf2NBUuXi2oVkZuwWQqg\n",
              "MMl4mitvUBWutl/yEfv9iYCNPL92kHj71jiJOE2vKNVTPejY3laRFeEWwLaejbjx2QW+KqPDImW7\n",
              "c33BYkGxMxGYqIoMEFNBApntmA3nhFjiitEBkxJ9McSrW3inAuoGS6fFD8MFTas99KsULulT0TQT\n",
              "eTclqOzG5plea8IoemIM+XhOWOMDwelVFHKew6lIUme/yRjTlvPeEOVXFos5qy65JhL94dwAAEWB\n",
              "+2ZD0hsrAAAAlQGftXRDfwAAAwAALXEkvXyazfi1eefrxwdi99NTDGFO/jdphKMSXvjPIivS8fKr\n",
              "ynU7ySuS0cBw2wAB0fHziUnIvGndbGcyHTlBsYfloLlHpSpht5fP5ZAqZK+i5UbxwntpGGSIwQZa\n",
              "Y9Xj+jT35IqEA3R50DGx2OZU/aPVm6ztYhawhgIm/rlTmbZitRLEAAADACLhAAAAsQGft2pDfwAA\n",
              "AwAAjtegIhwK3TXQYxW7pRX4APiuNZlWNN4rTsnxYMZqLAL2HxlRzn2tJe3WIA3pYWxY80N1aJ6c\n",
              "eq1IY5gHnK9ArKcEBcl9rStPZa5A8FqLERRWzbxa/+ZEuWl05yoCT7Kuf5a6Vktk4ZAaq92z2gsR\n",
              "u70F1d79sH6Ed9Ppkz6APO3PCmFDvkP6mZgP4BaWlUZ+Hs6EpEVr7Dn1ZqCTOoAAEmEtHRiJZQAA\n",
              "A55Bm7xJqEFomUwIIf/+qlUAAAMAAKT3nYyMKP48DGOoMK5ZVQHtD6kVeK/wJTGMSgvMP9gdbqNB\n",
              "Zbvqwq5dC1pAatOyT9yfB+wacjsoCgza7XD3wyZwZWcROSPCi0rWrcRI67M1XAHfPrUYC3YXdv8q\n",
              "XNIuYK6pSeUzkChz+FO/veO8L1J08PAnCtRDfKvHdjg/CgayNaI8By3HuSWXtE8Q2ubq/gKSGqRN\n",
              "iAn34TwvpEKw3Mhhf/S7pPq+M5mY5UP0yUSKDEmMdllNAHyvWzt7alUU/mKO/pOQ888eualdKYDw\n",
              "O40UE1XH6lLIas+SZZRPKLU7Tl/6shz21uvp7zXtwNW0qLUWBzvAabvjOCnSZ3+CU+rSVRs3xdZc\n",
              "cpI9BOEgU+MP7CGQB8WHE+xAH4s9/fVdJ07LOYRaHqkZZSQlvh4n3wZTjrhHH3rcsyL/OhaEqCYT\n",
              "WvYaUjyWM4yNVQFhQSEYi7FOBlCJLXZUp16nXs+HdQwatSRrhDlBV/DsFSpEhlRUyaEcNLOi4AqT\n",
              "x4Do1mjfbXQM/WekT4x3P6qfpVqGC/+/R+JW9sx49Pq+5nQ0QABZW10qMBhujKASRWAbpjcwmlJo\n",
              "ajzanbpXGn5yC7M48OQ/uKDsAbmuBR3QfGtZKxE1wM1S0v2Pkht24mWfrw6udpSVNJD3gnP+ciK/\n",
              "cvhFMC/PYecCsktp4RMSOdZf+Ki/bPoYBa/22yAC9Buhq3h67kkM1SpGMLUo1tN3sCQBzFjK4CDP\n",
              "+xeUXD7/UvDiaPaMoc56TAYAAKZJ0cJi/Aj2KTlgE9tk1urP1rPEpaTxU5cQ0Ttg4rOKLGFdsjXA\n",
              "1rYgwkNqX46ukui9p/rPVDQIJ4AxFMlt4pBnaBok+Q50RSP13B+sJs5/jDKeuDJWyBOGIXPMCbjK\n",
              "cuH6ajuAX9gCAjhpWlUNLU8JbtLy7Ih+CJFqF/XiY+pR30BEGi6237I7BQQwNdxCbSh0o3w/4CWb\n",
              "1/8yhHcgvbyyTPDGiEj9URRMf+63DqzIZkdjERjyN8FdGgOrlRNXgEnNOKVlHLKSwO5JBOrwnGK2\n",
              "8IjKUlNb5DfzeNMqbK+8jz4wD1SbGVLtqUOTXuRHtYWAqhR2w6NMQBfrVTurtiFB2f8XfXHLMnpO\n",
              "1sx+hQQH6Cf2F6lKrAzlmI8ihU3eYnrcHliwPKP2wyxl0Kg8TxwqxPuu6Bs1f6fl8olfxN1nQA9k\n",
              "BeTjKt/FiwPpLgabFhKIgAAAAMpBn9pFESw7/wAAAwAAZ8Ed66xyPjclHE9fg5iAogBAe0tXM2bH\n",
              "f15DCd0jRal1lDSFPMDHEiUDN2Doumm2zq9L37oDytBLkUcwD0e5gnEkEARhmr1OVg+Y1TGtFmBk\n",
              "D0zUfZ3HIZApeBgvdFq+dscwNUeBkgWXR9PNMRjZJput27kNu89NRT+CIb3XK92FGhUidtevYXdd\n",
              "48jVKtJM/m1s1ymPxRS0eKOOhmijrmL7b9LQlumZgtJ83Ft0KdgPk5RfAAAW5wVwWKSBAAAAngGf\n",
              "+XRDfwAAAwAAjtj9Pmj2XUj99wMJLCgAb/JhPk3VjwSA2ZcT/kqHxfol4aL4QNIS/2wIh6tQGTk0\n",
              "Rx3ZmM+D6XbVrgl5Ky61NGXCyH72wZJ3+jutIcrjjzGsuBNJr09TGk1g4e0G1FhOQDrYk4ZG8tMD\n",
              "AV8z+AyKeIQfY1gydhA5++iAZ5MobVpsifNeojoYF+3AAAPhYg6rGR3oAAAAswGf+2pDfwAAAwAA\n",
              "kteUTGTidlAAXRGbvvnea00hBTgSfW1njmBB6WG/Tedj+LLOtNuXCE7JrXVbmoX3Au0hTFV6GozE\n",
              "5t24ligltSn0W+E+KVS19ypmYLIwUtVZdXl+HKM4dLxppkncbmZTDJZ5aCjbl6Q8/jXbP1z5E0YR\n",
              "DO4s31vHNQ6OqbWHSXVhqXyWEmf3hldeJvYX85bBwfasr6MkwXmUyzjtGr/ysrmQAAADAB1xAAAB\n",
              "80Gb/UmoQWyZTAgj//61KoAAAAMAUnzaG2X9GgqPAGbm+eyaFZhsAH9H4fs7PQx5l4EGDZLtyX4U\n",
              "jyxX7ofUP7Zm3TprF+dc2NmPSV8jbhyaFmdZuGkumZmIykO3RhAXMoV1ZN0N7itNQfyBadukDaUh\n",
              "WxyZp4DknzSeNzz+kqxoWhKPL7y3Bk8SAXY78Hehb9NjrFADVWemWHSWxMHs8/wtmGGAC4HOOoUY\n",
              "LiSqoAkMvQpMUa9bj5gN+xGugLTBeZV2upBqcHkegG95Soah5whUeS5XGPHrRIC5jJHuRkMMXU3E\n",
              "tUmzqUWHLTo5A5SbuNO0LTw1dup0rjkW8iWeehUTADvf+DIgkpTSpTpOTYkntiedny8JeP8dNfzh\n",
              "vFUN5jy5ZPQ/ljXsXXL19MO5TGlmyUc3273fy+7gkhUryI2UeJ8AwtC4bxxyEoMxH9W1m+gaZHIY\n",
              "vO0ecjLvilNLSt3/4PIKE7Yrkb9mtgn92hMvU4hWMWECnhgkCxcYo2XxfFxOmcRyN8lFUZ9E9S2F\n",
              "BKUTnDDxvPeTICPoHsWH7lTYQkvCy0XyhhMu7HtbsrgQQL9no2DJrGoYzJFqIkF0GV5AaWabJWcz\n",
              "PUjyx8kTNKwSK6ZUXEHYDCYFT1F7ACllix1lsRzqEyoc3lL5xF0XOxA00z8AAAMVQZoBSeEKUmUw\n",
              "II///rUqgAAAAwBXeI/4J2CBUfSssWz7i1fLevm0YzRvjBRrMMR+83X12l8k5jciwBOBsR1OBRuz\n",
              "ZqoifTua7/GShRbXfPmotzRCfIdL/yLviFvKjFDOSEDn8qd1wWA26acZWz38Luj98oqix3d01GWY\n",
              "R1q3X/fHJLBrJq7LkgsaZzsHKI+Rq3aSv1bWOabrZFrJ0LtJd20NY8JP5cvXZtUC7IntdEEFeqim\n",
              "LJRYLdQ1qO1ZlgaLrfz9KLWX37pJjYZVWFbKPf9ETKcr8a1MZPfsehUcKJLY9xPVzzKf3ZSlnVNp\n",
              "TgYCrnBuxuRJ9mV7YAherEG/HIpDjl8vCQZKJ7iQl7Eqpc2RyypmfT3zV6cQxVuJ6QMP+TfOpg93\n",
              "gq3N62nxnNyqmeqkCUKx5BuA2+hwHVbr60ULB94h98WopbGqt8q/gXa63O/jzoQ/7FKbznEcRQwD\n",
              "IKA+eld7YYw1HFwJuh5Rc+EU9qMWsVLAqgav1imfj1MHtE6pTqkpwgx3IvjgqeAjR7qW9gXdlEM7\n",
              "qcBSXSvzE/TTAFp392YOqGxzELAC3RVqczcihPbNjgss/0W2rdCY0Y0R4EW+kSmGaNp/1Myvq37i\n",
              "QmaNbXQozUwMBtxNzMIIAXS2JJ0mG01eWaNNKxTYB5wlVORW9+479v/6PpeCLSMNzJ5eyHqIpTX1\n",
              "f8ht5FKPHz1tVEsUUGuXRoelFd+f8stEyeYneN0M9eDqe6fFGBcRSKBgVpkcEUSmRra7trLRmV7u\n",
              "V11VPeV9eILq+IxNmhQyJM7CrCnPV7H4phuVjb8w9RN5NvUlIRuYfJKsXukZYHDAK79wv8MaiHAP\n",
              "5WtMFQtiADx4k7pequ6x7tNd8FoblfbFDLA9iKsCqRk4JPHZ4B01+Wh1g9jbljKNnyrNnpzRARui\n",
              "o96qbp25BKnIdum86ETCtGnltZ+MTRKgLkqcCA/mYoXHHOTBVRkGu7KlIbcBGxV29AwrJBEfEJ2W\n",
              "mbaZFCy3e9wNgUet+jPMiQMVj8rS9U1xxKydV9niemSxpFE42nLAAAAA7UGeP0U0TDv/AAADAAQC\n",
              "P69TS9F5hwZBTBs6kL/7V0gkPKxb9P0MWo9h+AEIJMKPd+rmZh9xtTPHA+qgD1JMZWpzQ0lQrEMx\n",
              "ZgW7omD/hPf0fSm8JXlwaBGE7xHfji1EqgqM+JDNcvIqoCLF146fVBtxeRZrf5qSb9JwzhWm5nSO\n",
              "4PN5AZaMlGkbtU/YVDgYz9ywY9QVRlqiA7w1YOj8qykAdwOSykxAwKdOTvUM61s6LRN3Tw1ZP7Op\n",
              "v7xpuCXN7QmD4e1iZJtIBtYHPgxnI9tsA80/u/4J+2QAvKs/bh9Q+QtMd5cAABsL4SgHzAAAAJYB\n",
              "nl50Q38AAAMAAdAs7vnRlhSIlMRN2XhRKgAAXRKoWVGhBQW0iW9SUZZW/nc/yP764xa0NAB/Dkmf\n",
              "DnI1xgTp+JftSN7T0G/s1w/9ejzpSP75oH+xt2t26gwziYmMZ3BvSnb86C8LIyi05w6gEIwmIGt/\n",
              "OgiMO9ilezPpGfNTHFjFBd1o32a0fTYSoxBgIF2AAAADAl8AAACwAZ5AakN/AAADAAXR58kQ4Hgs\n",
              "sP2/NOFgBYNiQnrsPSNqslagALrK35RZld0jr9sd+avx1axMpUnjAceBfT+fFWCy9Jk+ZYuXO1E7\n",
              "bPdnzQrNnQWjMYuxxCVnGefIUidFawVkI544EwL+DJKHlxtmjSwcLvWoRXsU4dhXgxyNIjXGH8ok\n",
              "0Ac0CkGnBJt9vv+YAkB6/hxBCcwQ3VHCpLvvqYYSkwmnl8CNwAAAlxewwIAAAAMRQZpESahBaJlM\n",
              "CCP//rUqgAAAAwERBIZJoiaYEf35iLn084IjYANqvTEZmSzhhKpHcIVS6w9MBo+dp705B2Bb6Q9I\n",
              "rdz+LdR+lrBwT2/OFkGGA9YcAsOu4VxhJsc3DRu3sMHudmcv6T7L0+Xgc+4Fr3QU2QNV7XU57v2a\n",
              "luGhZD5bOBA8J7QK/cjK2yJB1gYArRtYFyLDSasm8R58ubANotg7gxwwhA06xTUXP5I0K8PR3YbE\n",
              "nfSJG3Bnsj6jkDn1f2fKHUGqLquyzi465UwJJHkP00LUMYZ91WKFMJz+e0UtHAdisH9yPDl2VlZW\n",
              "gf4J09jJAKy1DLa8+tMCoawjaxB6JN5822pjPHSzo2lu2KMicetZ54cj1ZMUOXOudt9zLasEbsnN\n",
              "WvQygl9aAKdR2DX6ye0JHDTY1lHafHz4+30yIa3P4wfPrfGwCLUxKKTXF10NrNMTSibm6inut+Nd\n",
              "i+OlCyANzyh9leByByfGw2bs8vn1IqdELurRKAI0+HyzRyJtN5ltGIQAalDE4xUVE1KINd6GgcFO\n",
              "8b4oYdPX5PA5kCL7bBDeUUtw7DAHvoArqZ2fPkDi9hFw84K9AR4eqFhpf5h//N8+Xzje/tZAiO6F\n",
              "FBoTnKVuf5qIDa+OAnyIuZ13DatSq3+ZwTcBLfGQBMREjneUJRfP2hOaj7CXKgWc2bx+1+sbMAXs\n",
              "PMC9rnpANRRAi4l1qOmzAkWo4qwSNUvtkxC0JKAK0LdVffWTINLSE/tX/PUV/oY+z81E1NbXRBG9\n",
              "NCXYS2YGE00qpX6fGM5beTbMSKQ/pFnr6GgCq3do2IscBhL27u29PcQrCg6y68UPKDpV7XX8Hf8J\n",
              "r/nY4RTWiXihHt0erjGxeJuaFnQS+8sUWFDmhEIHMmDgXiPxxyAvbNNzvNEIoLZS/3Eh19xQqehy\n",
              "Aq5vBhs/FdIuKSBnSEdu9ixNZWhM/4FnIOzOCERpXgUPxC4gNIgxZvbWpgxVgCWvgwY534Rt4k82\n",
              "4H66ILTv38k0dmivNWq2hU5UDw0bAW2/k0k7ZElfVwwde9kAAADNQZ5iRREsN/8AAAMABfi6ak4e\n",
              "23kI+NtFXxAAJV/UzovqNYxx0woNL04fzahXXzbTPbKx3GMgJE0rz031iZlVlYO2ym1cvi3P6CsL\n",
              "zWcorQbZ+F4TeD43N8r6MTpvH4wY2JsMixEj0rGdz/5ETUeZprbr1cl8YGSfpBlAxgJOEWTpRl8J\n",
              "7dLwiH7qUCR3JdsAk0JWx4g3/02ZFq36xVakWJxTzhXlMRh2ug8g1xWPCnZclI2Ja7QYqjE/Bydn\n",
              "ApsNCw/dM1Z0sAAAAwACpgAAANgBnoNqQ38AAAMABfevykVQqxZHEe7BAALoB45p9d7TFmSwwnSn\n",
              "RL2FGLOuiW2j+xeuzzEzw4oQ8hWW3YaBsH65/D18I/jM5GkYz0edEadn38nw7Ci4qCehTNdXgjlZ\n",
              "invyvL2vpz661n5MUDV2NGKYl4Ts1XnAlY5YhRScHDPbGOrCHreTTHoBCoU0K0aQ+HkuL23Y49Qc\n",
              "xATRidpjNPOMODd3wCkn+fSEV6xwvMsOEO6/nZTzldMB8zOwdK3Elo2i1LYsdspU6urDB5a+0sPo\n",
              "OnAAAAMAoIEAAAJxQZqGSahBbJlMFEwR//61KoAAAAMBEGcUD0S1ABSmzS0SIjL3LsOFxXGRTLCv\n",
              "wvtjx5RZIVmt5/OnCKYJkU1Lofxpl4/cZexF5xlO3Ui/3oUba5TYc2VJYX/ryjo62/tBaI0XbY85\n",
              "/QM1RM8G3SIu0w9fd2GyRxqNK5GJhLLX6DAFxA6ixRp9iayvb3SDhvyQLaGK44Lzb+yjlmwPpf97\n",
              "vlpg5Oi8SCaZpsDtG/72ms68Jo2FDMKrQrDG3AiKNkNR66BOqNvy4t0uEFaP8P1ApNwQTt2H+ZSC\n",
              "Avj4qAd/JHm0xT9g8HzWjK0ZEqdo9SSo3mlW1GOWnyKix8y/kV9mG6gU70b2ghAY/PHwGN89mQhk\n",
              "6GnVVYYjKFEPDaX+XUynFmhMRnneB+W3qMziTcHMmwCRfwAvqSxndECBIFjY6GDW/i80wCvAfU4l\n",
              "S2AI5MTwVfEbP/ya2UnC1UdBnWIxRLWaN6QZzbZezK5DUpLnFTL9ipFVtE8MXM1XDwqSWHZ+3j+O\n",
              "hMiABk6NvlsZ8t7qB2VQ1x6SRZhNOJcQXdFnlQtQ1qSQxJI1LWoOQMt80VyqlUU3aLQetogQCGkb\n",
              "J84t22SaKfEnjKkJCjnn3uVO/Ncel/qA/Oyi4XI7uEnQzwKfElMiGHEXpQs3DOfMe/9kyMXEb2id\n",
              "0DjlrkiScHR9n/5HZjbSJD+6IXqjt9mvE/QZSWSAGre+ajTMAvZiR80Z3jEzK7u3OdBdLqwpFWby\n",
              "M+eqnQIKFMQgU1NTjEYwxnIdVFsMTZBhOPgPAjBbhgzPLVLWyhqm3YHyRwNE45a5JlofIYgvlJF3\n",
              "NWXQFPvzMbLQjwAAAJEBnqVqQ38AAAMABiC6DRoIcwGnIQK9ZTes78AAzuK5KvrJyfW9vt7B9dH4\n",
              "5lsqM/sIy06wGgMLltGu+xBsrbjABdoZBFooAm51zJDt1X/YR6cbzz25JCLLJHMgn5nEyd0gSM3X\n",
              "b5Eph4+LP36PW6z2MYMhrT5WbCP1D9gPPNmjEK1N8rum1LxWudXgAAADAAdVAAADUUGaqknhClJl\n",
              "MCCP//61KoAAAAMDeZuaV7zcABnfsFfmjnJOd9q8O5JD9IELT2dnw0OxK+3QLuDmlLdTICX5YY4z\n",
              "OPlTTqW7MqjbUPYxLXhkOI4f70XFYaiB7XZkX4dTPYrG5kcrZdDnnzNfR7nBTfgY2+piv95xyp4r\n",
              "ZHla9uzupa5IirVQJSELYxeEA7/SbPgPNEXuigFoX3G1MNDgPegupGFljf0msleF7qtyfPiWoFXl\n",
              "S8dS8XKASPvSRsVRXeSzbRbP2XrF1ZewnCAjlBcMTKLbRxXVCneYscCsIhhpc3v8zVSS+Xzyvfr5\n",
              "R7lYCUZOF/A6katfKOBeap3XgXKp62W7u0aqUoYPsUWCjamBv6dEvSGKXE0unZ79/MYDibxxzs3t\n",
              "41f0p8Cw7q16KOJDgfuWWaEKhJEJxx1xEyTt2fTeiQhIhDsdDJJUH2AEV1cTpInq6y+eOq/jb0ol\n",
              "f1xIrKya3gEzifTre/Dq99Qa9wMivSI6sPlWteIl56vRFZnFLDUNnGpid9boESRHf96XPcCf7Iy8\n",
              "HXGnMGZyokGfUTl+QxaT8Tc+4Hb1BBK9hyx3af7ZvTAFVZdJ0ifU0HHdhm24dAMaXN3F489/RYmB\n",
              "uIT+IaDbkljtDOfOlF4amlzVSWDFRP/doujNX9r/K4/KNWt3LtsziG4vf2fqq+39bUNCSVWrjwsr\n",
              "arCUm7Jj3MpxJPE3Le1+FrZZvrEaLNLZOOD7m/+xVuVPa5A7xjPAHQfY9Bynm3Onv3/H2rzn3UBk\n",
              "AN7erDVrcjyboIT7+0uQDcjsxm9BO1zicuk+KSJSl2P/ybyW91nRWi42H1jS76qhTMvTEiGk7HKK\n",
              "nMl0GF0RCEecODkyJphSFOI8EsHZ5ejBIANmdR3+exBqlk7GvDQD2d02C6ihmfwMCzZ9CI5ehXSn\n",
              "FwNPOO1XxzzpqPI4aROUm/ORAHEHZ3vtltI4IxMkl1SflGwrYQxsxl//lwfqXay6m3jHCtbMWvlT\n",
              "x81UnrwQ/lAhxGBWYQu8RX7P2uOhHlwBNw6CzqKR1rolarFu4t4iCRUcendfwYWbbSHyD/1YkUXb\n",
              "Bvuv/Il7Pi0Amkw4oiHJw9f4fV9wNKlHeImxSMf9m6kZ/BJuxIxU1dEGQQAAANJBnshFNEw7/wAA\n",
              "AwANmCP9MAgabQ1CaXpamjHUuPgCS9TCzkqLXt9OTosblqK/oaapQ8pcNKEK0dkD/L6QIlVLgNM6\n",
              "UQcl6gafFssBqgcRTVsdwRFGtIv3o4g3miATLd0ygnokf3jz/bh5YlcGSNNx3+8RzCqfc9ua01c3\n",
              "U4M1YEqBvGQzjmY/hp0f/1PsfoQ0xC0ND0zuo3tKugeKp9xOQnYewF1dQJ/hLHWk/0nrd250gzCC\n",
              "Co9FarkVE0HhV3qVYT3msyEga88AADizoX2QScAAAACZAZ7ndEN/AAADAAYgRZZphRzr43w9N5ng\n",
              "/NVz1LwAcGn1iAcYreAC0vVWrUMUCzdW6KtmOeEqnhIblLel+jH3N/oKVBngv9lX7MLk1shtdN0O\n",
              "oTa4zChB91vkgPjm7S8D6mfmdPEwyX1k9jJJNdRqNrXKRzV6QRdemTpRXOxuPzjYuXorzPaf9AZ2\n",
              "h3XQ0pFuyQtwAAADAAHzAAAAmAGe6WpDfwAAAwATWouBTkqo0pB2wHcFgYPJZwBtvUrEVWsDLsaV\n",
              "cx2wXhmvuRoAHBd7xIhnGju9luDbuIi3YW8wGAh6TS8nUv5i2xZDQ+DADpmyRypLvtJIhiRWHDSe\n",
              "hJ+jkP+YUn9Xf0zXF03eM/v/cnVjCvPlaWvKqEWnwqcQ7UfVv53FVkbufR8Kmr0KFaOVAAADAAfN\n",
              "AAADIkGa7kmoQWiZTAgj//61KoAAAAMDjuJhO4TAAHjCYjidrw1AXh9Qmix/fq9UACLZmGg3rKV0\n",
              "pt6o809mmHA1wU9uhMyGG+5a7pUSxucWUyWBepDwgPHio1iPusdYYVA4WKi6UI7b/y3GALVwQszI\n",
              "/VWMiXncV5YBTx33NdcdyHbvr+hrBM0l/YNd11gTm1oTh2jWI/YOswlX6ufS+9iD1zllezbsC4Nq\n",
              "qk2TNKgXoWrN0CPGSMy55ROlX+jKnUONekJ45Hrfr+6jghabk/r3o5e0XtHsY70+BUR0gbAA7li5\n",
              "8+cTms4AtPfAsczrfpvv4Sc5IctTz1RZFuKe+Gt1UeXU90eKeusmfLHhrgjrKdGEAmY7Kz+04qph\n",
              "F9W2xo7gwRSVUY5j8BhNeUp+EJK53tj+vEu7uE4wWGii/Q6T9WAycU55CA8i//H+cNbqqWmWLMYA\n",
              "1TlEYKjBnH//yuMR6rtud7aY3Tp38rIae5C2ai3tW1EhCoo4tOpk5GVFl23hCkuNZHF/4MDUtMoP\n",
              "2aDs7HpO+o3Iomlk/zw8rNAZHMiMfO/3lPqscsAIq95tCNyhu3IESvg3lpgd+k1CkGtmTQlMIcZd\n",
              "inofiLPgc1pi6PZjlVFtKMVHXCOeCvDJqlDme64XXfaOQxCO5RD6mjFbuGlBd2S+etuTV6NuDTYE\n",
              "4f717WiC8IuMZ+CDbSDK46IagvdRfv7s0o82WbZ+JNLyc5mHRC0Q8/4cjpPHF1YeUdxpDCa6pBW3\n",
              "789whnk5039J/zcTVCgl4mNx8uPJn+UJ1ozZHsCe440DoPOVHqXxMYzrbxR1Xx9wjlaaRposI4LQ\n",
              "aVFRKocFXiV4Qj/e7rnseAhf2i7X93D8P8iGhlurmRt/PJq9g6iZj+anmZuhUnRI7YL2jqgbkAMT\n",
              "Q+k9vttQYPm+nv2C0IZr6pm4zhlWrS9Sx3VbISclE+cGlgWCoFBn39V6ae6bP14DBaAr1+9oOqY5\n",
              "wA5P0dJEMXCFxOMx5rwsmN9MEJLcT1MUnIWCKZRiGjbM78mztL5c5uom0H8xFU0e4CkPwIseA7WK\n",
              "IfAGVnB3cyAAAAD5QZ8MRREsO/8AAAMADeZYgM04AD/Ea3KmU8pXeyb/GWpHquisuj0YTwaYSSwU\n",
              "6feGNqbszZlOB9eQqD3dn9+XkBX6xZnJuDLjbQbcJkPGe8vVXr4jMYp5AmjgmXSWw1sTXP0XAP0z\n",
              "MNSiBy8ieqrthfYy5NxZU8oUyr0ZGHgl69yUxZCfElMFNAEN97JA6mFHYEuI+s9Ds9yFD9NPlGZ8\n",
              "l8N746+oztbfPIwMhAfrqIOzjIXFALY4ZYNAmSIKzSr6R4ju5/0Ata4DFNckirY86jq40YEEhku/\n",
              "Lr8IR6zXJtEjYw10Ic0iZItdxb+q+Kz352KAAAADAGrAAAAArwGfK3RDfwAAAwAT6JJUlumO2ssj\n",
              "/SEc4c5ZIABpeZ+n9u3SPzv/RJvZxAMU2f7N5MYsk/q5HKzidij398op5VYlORHstNdT1lSWNzZr\n",
              "N5WUJ8lxnC92GN3s/cnTZbCqlzVEjfBP7C7CkEfKVnnXQeBNnOJsMbEvPNtpcZ6tzBvjmhNL+2E0\n",
              "AZPqLCp4XP/h+2y9GgWnGdjgF+6BHEXKaqlooE4RE/Jn7kgAAAMAd0EAAACjAZ8takN/AAADABPj\n",
              "4X0gBF7DHA6C6wsjf4AOc2sRPjsp1ZFvpFzwhfscPwE7sXdpkQBDBtk79Qt0VlJmXzJgaMwEvDrN\n",
              "F15ADfZT4IiXUo+rEQWdxIP/IIN13jbKBhigPR6Vh7Xp94RwhFy4tNL5WJhNMK5PZnRuYL8EYs1s\n",
              "xwpDFTSDns6EpNKQ2iWPBk80cqoRlrGNjuPWrsyfiAAAAwAR8QAAAxFBmzJJqEFsmUwII//+tSqA\n",
              "AAALvsVnA/vABXi0VXfw3gD+6uYOQv/l7VI51n7du8kAl4B1v5lrt730QNaPJSYd3u9UFhT2j2zN\n",
              "PzSYS1GqC5kl3wX3wSbkcdypPSwtH8ps5pedYw2hDu7p0RPAWTfA6/GXTn7ImUJCJ9IJvEBe9fTP\n",
              "im/CwPBVzPO1sTYEa4KrYJu9gik46WYIxx+UTDzmX7GntRpKrovi7+AFYtHOMXTSIb5LEzqp0TRC\n",
              "xEzlyKSp6BA+pPffNIm3YCiUEdo6uLvrZa1mav5QIMyuhCU55petvZUac4OMytVjZWV1ZW+S1dKl\n",
              "QoLmE19SJaDpQSQnkeEwudNQewsP4XKHvE5XdkPSMSEV0/Hcb+W2+GZn+68PPTYEg8o5xFOzhrGD\n",
              "7bAuZyM4zTYr26w4p8D1u/WFcSQ4+q4DsyJ0NIpdRU464Xbfjzqd26ndLLAeoR2atNR4U4bT6pfD\n",
              "NokpfZT0syaf9ghYlNP79xZJdOxSXzgV8VZCTsrkEkGmIFly9MogPSbnfPBebHXbS1HUzuUA3UDI\n",
              "JP3WTga591WBLLORdhiWMtUmFg/75y0r0RwEu3CsY9U2SJTEo+etkD1VDanGl6NJJqbyT2odMQ8l\n",
              "ubetU9BQ3wm/SwGt0jNOqPoI59Qrrle/2eSyMTibpncaB0FVOlGBo1y5gYhBqMWDwR3n7+82Hj0Y\n",
              "L068EkI/q4nXi8phkxoVwmTF4kLQfa4W63I6lhUr5WJZtg7f+Ymsgn4muReIqbsOykBW03AMipgX\n",
              "qsDe77SpoSBB5M7tBM6jyYwzEXVJYPAEcLfSrNtxMdOTxWlUuFw4EylJRk+ld+OCYMaCYd2gmAyK\n",
              "63T6k4wW2st+N/lAM6X2qb30TSg440f5gKJ7BUgUdHz5AkmF/0jrFzjaYnGy+WNmpjB+f15J+vUb\n",
              "yJKtHtaPmS5We5PEkaiTjvHgbUTuSoSyP7/5+nVfP9TBgkirft2z0uOkcy+lcKuReWpW7loZJt4X\n",
              "ph0J/b8eYayqFGV+jns+rNWHQSNrNPUPzw6+MQAAAOBBn1BFFSw7/wAAAwAtyr10ADqUsKvee5tt\n",
              "jERSBcEsXc7T1GFyLEBzVkLciEMz0AAxnNkFmpjLXa+Rlo7Z+8LhnrcOjDKBa/8ff1gH6Hp444I8\n",
              "RCWXHS29Yzo/PwMIO2fS5Lggrn4i49ceDpNs7Ec0q3cPHJSBYACR6nTCvOsrcEHNS5+Ilsn5NXNj\n",
              "IowN8pZwKtsdtehGwVfFbjuDrUObWAkJ+ZyT0yo8TAmHLNnk1tPAR3E1uf17FAA0DNhyWdwDOCjq\n",
              "Cjd2A2prx5QxDwVqGYMHVJjZOFAAAPTfQMMC2gAAAKMBn290Q38AAAMAFHiQiapx2mtN2Al6e28t\n",
              "00srgAAuYJvYzZZ0BZyA/jIMep7h/EBmHf0w4uQT4fFuOVplg4dH2926ib8UcEPqrCOz290niycP\n",
              "wQ34tQALTn+Z1H0PRa2kWfBaJw527wmsyyLqKGWf1sJHktu3acVVz11r8M5uhxo1r4hLbspp7fYu\n",
              "GeDMB65erCZepYYXmO9nz4wAAGcnsFTAAAAAkAGfcWpDfwAAAwA/hQgQr6LgTcqQjqdugAuPmPdU\n",
              "iSklk9/kR0iPs491ck4hDbHjHPysF4OIssaFqK4DNrbIjo078J8hCASMfNNxu5V2EOWvsUELqyDC\n",
              "fVHBR7sVv5NpAgxHMDxXmTXj3Tcy/cM/2AjuM/CibtMZibyVx/W/vITeW0t9lmZtnoO2IAAGwiAJ\n",
              "uQAAAr5Bm3ZJqEFsmUwIIf/+qlUAAAMAGBHkgEeAndvwAoiXseAut9bZgGygXwwELcu9zKBa+Fy2\n",
              "NWfXCgvk+5zbqVKkUxIEcPUFOR5mZzdG9VMnM/6fLVR9KqtjIFe8KJ6mqOfs5W3Ksnut0PkJaC7v\n",
              "Z128rKVBOsUM9sFwVFI7kqMPZVu6WTYUbR5ewwyperrCXO6mCtaURfrSWN/8cj3s0Qrmk9V4GjxH\n",
              "a/qApwK4wPLF240L9eh06RtDXeI6QFhwwtkuWfp50ij2m3T0L8g/zZNpboQR//cci3Q3oW8ObWjF\n",
              "qkmPWXPVn1kpgM39x5oRXJ3R+WE2eJp6R+p5xs5AZR9QQonBL6YMDF//xPPxLik2VPhTVx/SeqIK\n",
              "vRVIAc99GaQMkK6N9Hoe72Tt+4q9XPOKHyS9uPfUP4r7qUt1S9dKTPDrU9HtfyUiAW4QULSFuWVQ\n",
              "NtDxOYJP9tWhs5WJ1VTOOcJrDCqVrMevQw4KlStTgAtmStJXkSgv7UNEGK+Z0WjevquzqST9wVzz\n",
              "BEl/ovx6liADg/njplCN1XaimJoPETOCv/6xTqfnkNXo9RadkLLA66PudL9rUqwbUGO9TOIHzxMH\n",
              "dn4n3XveNtXbk91kJh1iFq8cf4eobIcELRZkpRIXofgtL5QnYOSw6VV3I4SzrxNDEr/J4zvvy6MB\n",
              "K7dfiDQhAJG25mshz+JFWSeI100lBPOPysjE6vnqKjkRVvjpJGCLhpy7onnoZU6zaPUYWoADGei4\n",
              "M0H1/S4HOmG9MEV5H8IGoCQpDHidBzr2a4kEJJ7v2WtX0OVziIcji/oi4HdX2Z5S7AyC6CjzKCNH\n",
              "sgCMtcqui4pzb5Wj5eCJJCQJ6HG/7cwuNqTp9bIbIdnzuXZEX2OZxJMXXZxSHEZC7Ete6/rbr3oS\n",
              "s6aWpJ2kBEP35oe/gH9DK+akSAiz+sAAAAD0QZ+URRUsO/8AAAMALuq8hEH7YOtHmUUvKOPfD8AJ\n",
              "YGDCYOvfEbtgzQhcmW6/4wPIMrYnlaoAns+OFkTEWYxVuVOmnuJ7xO2zpQuY2kBi13MQV6DWG/FI\n",
              "rDAdTP948ARvhLQiCriifVRv4YZMfVLSb9CnEIWrtknZopoe5UhMDBk/5I3kZN4+mad7HZA6xX6r\n",
              "WbqsqVmVhTn7LTcivN3ztr42TMZNA04tuFw4xpxbO99D9CjWoyuNZCXszFTWMZvnCc4ERQC8ltdv\n",
              "CUddrTOSCJ7khLLdIzTNR2+WVQbiUnaS4Kjm8DHH6sl5BboAAAMBdNCBxwAAALMBn7N0Q38AAAMA\n",
              "P4UqFOp/NiOJHjR/J+ACIOCZ119k7zWXgDP9dedwjYA5CqyM1uicq7D5NkNtPbMOkT3u0oqGCh9o\n",
              "W8JTiquu6WpIAQ4eYTJqnxZwFP7v7zJ8r6RcDn/rSIhPvn1s3nN7ldrC1zn+k8fLBbmKjviQkh8j\n",
              "BuC5WZQYnx2wrt81Y4ml63bvPyYHUoV76lDp3UP5Cp7UmPZ/5FVq5eeU0kntNnRqAAALFjYQ8QAA\n",
              "AJsBn7VqQ38AAAMAQV/N047SDOwn0AG1KRXJ5NStiBhEU9hhl9209bqNGGqZzJIpOKSwGwmtjzfj\n",
              "HMRY86Lxlfs6Tq87+0qxY6D0MQxgCCSPRdMk80AzA4sfVl57uMoal4uR0NWgDOQpf5VuatWEr+lm\n",
              "t5/l/HXB4LRZWb70PIPGcJG+0+OyV7qhKEqjdSud+06zH3ifGAAAAwBQwAAAAoNBm7hJqEFsmUwU\n",
              "TBH//rUqgAAADFZsdbwrFVd4oj2XpQpDL8yZDC9I/YOGA1L6E5gIH+NbaeY581qQg8JkgT/Fl9Qt\n",
              "e7BHnfBRYPql+7/RVYvnwmdrUQjI9IpjdpEWkUETcvQcdFTLaStUVPgfnEWY9B3tVO75BcKp3RzM\n",
              "OoAOpiW/HSJya6gh6nQ6AR2RvMpAgtJWA5QOD7SREeQ9+5fuiaxCe74D9xUGNSY7zk6fJMjSkktK\n",
              "05IvMaMacTZgGrj3mckU2GO5cq2x3guGg+bSR7xgAzmXGT5Mdmi1b8JsgEml/2gAwXzqC5vvIVe2\n",
              "DAyYOGj4CltiMbj7hLGilTYdVZFfXAbPKjoc/wyQKYPZg4LGaTZ4UHieDIV0IWBDklXuK7YOZDOB\n",
              "AHm3wHP82uGLThUKieK/7GeHydE2VqsHet1yObovS+7Ca0KoSjmu8CChzzTTDjb6nWABi8/NDYkL\n",
              "RhXenULmqWHEeguTUbSrLpWPPgVuPiVNMfztTTHP03mAoEK+CZjlIXkX70DICQJjjp/p8olRaMZf\n",
              "o01tvRJYcyege/Sqj39Y6JMmJaZK6M9LwssDAWw1wFldx7A/Y89XI3oZEPz9jKh1XF9MM5x7YNkZ\n",
              "MQ8Y4nydFDDelfILIStU4KO1eB7nH5YiXIkWE2iswwSiwpPf70zuJrp8yq8nX2Rqs4dXo+eOYSNB\n",
              "Xy+lkPR0tPG5jqll/slORlI/BRmA/RmfJdxUIyGhGhLObUM5UPdVTuUTYbCA2+D7xRSEuLRbmoDv\n",
              "gVGjxPrTRQTRFvj+yj+qC3lGcPZLRqIU5RdZo949tZZ3R5fZnoWlptPGSIJuQ4No0t5FnDcwkhSa\n",
              "okgFQjOBAAAAqQGf12pDfwAAAwBDa80mpBxzGs95A05TwgAdnAJoVPqq79cD8O2s6dn11v2xwwJ6\n",
              "103BCZfDQAxwv0RYaBcr2f4O+0QC4panWYGmmgsOzePrDO5Z+5IMzAvFzxGrOnXYFQUQTon7LRgE\n",
              "WHr2eNXLi1zzTW3uobO0Fl9aIvc3XeYeTH/bl1G0/tN4zMsoqIMe/ICnE7ivLRKPij0hFzZG7GYj\n",
              "AAADAMQbAk8AAAJbQZvaSeEKUmUwUsEf/rUqgAAADFQyTQwWXgAZ1sHukT4yfaL9lZyOEKxzrDUw\n",
              "UHWXnKP48eTIlgnU3UGzlVRGkNqd61YlthwQ++bPJQNGOdlGjGJhN6TCbnh6VEdRROsXQ6b9k4Ql\n",
              "yK8uAS43w5T2y+TEC6L+0+T6qCNFy1Uy5SbxsAcbdGGg6IWDMBIXBHHXJnV/SOfVZY1Pecw2AvUA\n",
              "3QzoS8EG44Z94aIoT4D+hAAeIZOslwva3eq6qb6WJ22B5pXxElzocJlsZd/LqbrBw+reC8HNA6yN\n",
              "nwlc1v4NuqVrOOEW+3tScNODIOUXuolH0KJ84MrtGhH4BCe+XEvB/+kJDwcmUDYHH46N4Cv3BwZf\n",
              "6ZJqtTbp+E1x0q60oSeBEuACXWeHlY2918pmdxg6V7nvYWqyLwbwaq98plI4CWy2uvkt8Mc3ik25\n",
              "HXbNzPHuCSU4vjqTTdtXsj5CtBE38pPDT9DIMZhDorl5qaI/jf86BYhjref09vsN2SThqkTNvhDB\n",
              "4KMlkurrUUdIdwd38UKsf4Y3BcqCOQL1RiOLMw6MHyst2ur2izSbAVUCh7FKUdW6oBCjLmPA7jld\n",
              "onKglIDBPcEgVjU/aDDm4OwRORwb8HpgEczVaUUtFUvObNHYxYMRZA2Dh5EwfQKp1y4wGpFZG2zW\n",
              "xGNK5zUgYpcEth5/+zrC864C+thiad1QEyGgeK9HPxwMuRWXG8sqPaFROeYLPiezZ9iOxr+CNnNU\n",
              "QOwocuqxlUP+qkBK0U6iW3HGNUM/+gCkcDnACRpIlgKUeyblfd/tHwU4zLIIAAAAlgGf+WpDfwAA\n",
              "AwBDX83TjtIP7L+Su4AJ2QzeafZvjKYh+G8HE02C9R9dERaBIZX7RUoh1zZFQHMRzbXoMgYnBVen\n",
              "hh/j81VSBDo2WDEqc67V6BTK0GnRCb3hyVNkDe1k71gob5OPel76F0f4ZdOjmedQijemtmVowvQs\n",
              "Rr2bS40z23qZ/8eSoa8fcmP8gugAAA48w8oDKwAAAvpBm/5J4Q6JlMCCH/6qVQAAAwAZSVXquvAA\n",
              "FyFfYjyjbohjuHZ0E3ro2aY+cxto4cSthyr8Mz6N70CNYtpqQYOXoV4I0pbV1vymr+7pnGIcWNSI\n",
              "e/gTF4JEdXvo8kvQU+cG+eVXj0rXiFnpR5IbLrcWz0pL7tpZhfiWWhRX1YM5XtXCUFynmAF6dfRO\n",
              "UUmx8BqG/AnI2PZpJHIF6fapS09SV2E6Tt4nl95C9T/06HGo+CJY01DUi8j5v+/6iOHj2SlJMAG+\n",
              "pQHHLXOd6EBYdyGtOx8zk+iNs6sQECC1ud5lwAIo9zz2IVlqPMkFglnVV2oRNLu0g9D4JrVherLe\n",
              "MJln90guDt0CfYk3vEPN2lIIZGlzCldmrg3gkCriSlmSmQ8wBVaJQaPntl3LJ/Bp9huluytw406i\n",
              "MJP/z8/2zI1QyxdFzmVzawiLaPQr7DEJsn6fGK6p36+GgCzONWHfAU6sbIR5BljLnyaFBVtu5ZE0\n",
              "qB6MbAgwaCcbJlH9gmxSFHP2QaEem0I7e2woKSPSZyRY0+sPzmtEJEAHQ8ZuxwE5yjAEB4dr3XCo\n",
              "AvTd7za5geAZsl1gdUXhNy345DwrA5d6hYSVsUccZHyKTv2GsWW54zUeCBKWd0fIZrIOOWmFuMcg\n",
              "5iS4Me6h6Fl6VW9bC+pIaB8RmwqpnfI5/P2Jx0ORj9CfPgzt+B/qTFNFOIlkXP5hXQdBh2XzuaW1\n",
              "igTjfuX3d4kCoSkBEGmVryQofPfyCbA7ilJy6YGjputfzfjBDhTLGK0gd9MfAOB1CZ+U4bLEGzpB\n",
              "m9Mpt/mbeQfkyu/YfxDfPK+UcHa0hySHakcGIgG5ZmyiXDqAgjYLs/iE6arVvHMAZjEhZ/wT6koC\n",
              "Tgj2zAIOI5pLaIQKkNHgZOoUtt9cJHiL5I3JKAGKwjE/9cIsv46xHhVHF3PDtdje243B+rlxVowD\n",
              "1OlbiW0k83+1LSInqPU92lVQoVQRb2nQ4HwjbS0VTW97jDkwcGmUECeXYcgkXOWlbIpnE9kAAAD0\n",
              "QZ4cRRU8O/8AAAMAMWCO+NvhmaLBY18gv2UP5ncfjwAbVa0dMSgOijHeog9vcklEMfKzmA93qcdA\n",
              "XgstpZfmEmA/vka2QINHafVmd1Pmy3QEN2YIXu5Gv23IAbnBGwmGFCAgjeKpVnT/UAfS3JhCz+u+\n",
              "/amIIt+lR41lW7DDOHMO2DDi+PnBt1bQDqgw6TegW6HsOPXOmqXcH/AP97tC0On3c5a0fDHL/z0h\n",
              "WfO0Yj4lVW+7sr4dBIIG5eVBLg+c2mFW+Rr9364cKm2zFNxN4q2Zod5DKO8c7ewQnqPmEOphRz9v\n",
              "g8xSPi6K1oAAHmkHTlqJWwAAAJwBnjt0Q38AAAMAQ12u5YKESnPYLmAaaxjJZ9nDe8NFTeAB/oUq\n",
              "B1JrtuI9boMysL3lVOvUl5fNIGvR45+sClSJH8rsBLX6mG2PnuNZxQoIhtO13hK8SfEXvMKgPw72\n",
              "VMQkWz5I7CY2ycbWOWF6zBkAAAaqLWFvC4gzvz8ju9SaKS4cWB0X437k/kgh6J7a8iUIUxaAAAAD\n",
              "A0zQCPkAAACqAZ49akN/AAADAEVfzdOOtl04RkuBy5w1164a9wAcvs1Pbda/WGE+susLl695Jdjx\n",
              "0RScxrR1DZWyZRCl6b/Tbg/nGoWn+F2VgnIvYH5Yh5u3J0vc1sVIS9Tx9e4bvN/IWmMkyZXiVM3t\n",
              "RJ15zOjrIQWD0anW9GJ+nkYYsgomJXvcyFu0ghydbKfQneqFjaohwpyfjGYd28yrtDsk0DcAIuQ/\n",
              "vAAAAwAAUkAAAAH4QZogSahBaJlMFPBH//61KoAAAAymaxw8ADXhd74LNzxCTdy6QwGJlEssKA/G\n",
              "9a94IdtUkbAgWdHPvL5CRe9rc/jMlSnC6FdUWksmYV/WGqqbDxk81P0vBRavoLSzoXZbghs6zsA1\n",
              "82qYKOTEnvlP8QVfIbcj4n9OMUSqIKZeRlDaubu7TioHUrumF0TM25P8DX9aGOXr9Ww0llHhbvur\n",
              "8PDxozDPffe1hkULt/XRtKKZtiAr6KaIWfKRvJ1n93ckIUWgB6s5TGnPXxMPBCmIQx4yulCd3x31\n",
              "tkHUT7fr/FMFSm/MrKHKixNI4cozQVl3T5u43GZ06iOMRMovfSfD+aD8gNkhHFjocK93++//Xe5a\n",
              "90AGpwGJVKx0A3XgMSR9lJtlF3kmDYktIHPULq6iTPXL2pTok2lIJv4Zkk3X3CVfHiqwPWktJrm2\n",
              "YJDAVKJPYNYTU5T+w+MQS8xjCNicQD7nFP8A6RfCH7cNWZGT8J1Wvt+np9lOjXZphzm093gVEyEc\n",
              "Qhh27zFrdWJhdpdmro8ZRxVEdkI+IT7Z6HQXukT+SUsU0wKIDGd1L+SJlLdBpc5rj2pK5cxDizMC\n",
              "lNbkJpMoiCsJZvFtj7r4IcLFOHO9dzEv4QqN3shMAK94Av12Vc/k6JU7mGmUtw35aRnE/YSd62fZ\n",
              "TzbAAAAAqwGeX2pDfwAAAwBFX83LpgnCj4x8tFvfgA4ES+Is7c8jIPws3fKG3ZzB9tBQ8bjm9t8u\n",
              "6kW82UEVS4BwcuKnq7EKFUN2hkm9cB8eKHt724Qj1pE/6rl7UOkjq0xzNXP0HzIMKfsRWGEaPZrI\n",
              "KhkJ0nTDkiRrvSykC3XGn5F7riCzhK7LicGdEcOQXFajBiEYipLpmWJoQT1b9RoVrCBZREZQzcx8\n",
              "AAAwNXof4QAAAv1BmkRJ4QpSZTAgh//+qlUAAAMAGgFdy9aIom1wfHiZPShzqe8YkAFklcxP7cQ/\n",
              "F1VupOENUgaw1MaaKkHacWyuanOZldl0TN3C92oNHrDP6jwJlV/y7Zs8m80kLsuXs7iXFlfKz4zE\n",
              "SH5szco/Lu0pWZN2s32nJYY3K+agIJ2Ubpt2vW8RtB3/RF4vhELb1yiciM6UijH7XdR0OjdNVwJz\n",
              "X8CugU7sLhj/vutq0677dvXV82mo+y5a+IiL3qy23t9NL6eHGC5bt7tmJ8/hdMwcPgOP8HhMnCje\n",
              "EaFGNNyE03Ma/xHFqV9Nfap1uxvbKPZ5nD/C4bHj4qw49KiPmO941cO8O7KeKsIIscfv+2NAwrSu\n",
              "X6jBMkpvF/ghe/hLTP5hEqx8BiDHz4l4Pfe1n9nB8G263Ru4imehJPUJNtukVwrE4PJwALrNh2h7\n",
              "hAiwrRzd/RYXKzNLzGq4M5VjoT5JfQGqAZgO+XTdsPo07A0aeut7DQZUKRlYiWac/KihbqBuQ6Nd\n",
              "BGaYVqAYKxuno3k1yQlzd2Lmo/krPcxGWoiQNlfQ+Fh97OzOjozpTuO12jzJq/+mIMB9MQBN4IMd\n",
              "M8GqxDX7iha/uqIZcgKircPjcsZ7b6uSQ2vlTQyauhhUzDLbMC0+jYNXNmln6uz7OZL0IdDwj8Ah\n",
              "qFbvNQj/eDKMZQtoF5JG6f8xXWFsr+hZkbgnz0v+Zv9r2CATIOYN2fGb4gx/9SGKYFdnp3yBPG3N\n",
              "EtxwMRO94X0rR9RaeWoOyh/1ZhBv7NyLGIjSG6Ogej9BCciZRdz7gKraMKlVLdY4d7L0pFbY9Cbn\n",
              "kRJR/KmgrtX5BNnwT4D27SUNvDLGrbCAXvuOHCLJJRuqyeNkAK6Wogob72etOkv1bjWZjVvkWxgr\n",
              "NFRuIwo/Q5xP6LZpZk7ibFyajcI9lOF9PrQ/hO4aaiPAfd/qmBeum2S2tL+3ePfCZbTRxT1d8Pdc\n",
              "trPlMK1SmlhLxRQ5hzh4iYXRKgZRV8tZ741UXaxTa/LP4TQAAAEOQZ5iRTRMO/8AAAMAMp/HrRwh\n",
              "+NuMqzqB+xwsgA/lvLXuFps3Pfdlaekut0zV0UVv85fzq5UA6bhHjyllpbt9R4HK/FAbaS57NOHc\n",
              "az6pxqm9r6WCiJ5HLEtFYbBsdX9ZxgpUsbfd/KnS0BMTMHbBUGLDDyjUog0774WPYVxyYxBo9GHk\n",
              "S5UkcryMZzAPdiSdW564ub4sNMabgPFXbFv07mUgUWrlqv9dmE1NtgUWeGWqviIN66IIJp1H/mz9\n",
              "SMFDXSrmjOXShWcAuBiAOXLpxOZMhE3NfQ6gdILaIxIDIIXV6ovyVyuoAGthvDERVS5pa6ZwRIQX\n",
              "YBPpJDzS8tBnx7pk4jc0ESwAAAMAALuBAAAAoAGegXRDfwAAAwBHbBlczkrK1EfueEGiiHuAD42R\n",
              "P578k4Bgw+vtl/0qdho7fuDNWDnCPjB77c+SH0xJTjLhFgTU6qFeqqc+yRRwuw6DUnMuuNylyH4I\n",
              "ZpKgWFrvK5Qs85rSodVbQttkkqn7TaRAXUeJ3fSfAGaKyNWYyUsDvnNflewej7eHz5YzQNrI67gU\n",
              "S36+5g/KHvD1nYAAAAMAO6AAAAC1AZ6DakN/AAADAEdfzcumCcKf1FryXACEFR+5s/7bDL5ISlFe\n",
              "lSXAni54dG4q7dKFL70XQWg5GZl57RLurvg5ikChfSiFct/7PjiRswm67qOSm5JNurVbjQhIxZoc\n",
              "Ou0MNOztDyvMibyQa1eHHR4D+G/mN8sLtW00RAi537qtL8UsGP7UlfZeV72YvONzQWFzjsspUB+H\n",
              "DO8nNbU4F4AB2T0xbKqXRrEf48+WakHi8AAAAwBzQQAAAnpBmodJqEFomUwIf//+qZYAAAMAZ8eC\n",
              "2YP1GhTLGhWDdtarVuNBwBZcUIZCIWTFnAQ309Hw3bjBUYf2DWanJYT5bdRkA41RqXvrpMN5cpMi\n",
              "gyHnQRU4Gvk1GsHMTcy/KB12NlnXEutl5JoI4TycP/AIcu2iZ+e2OUQp9LELKn9cd5IBx9nSPNHE\n",
              "VuJhGBxymegNDZK3K+7lTzifdyI3dLptpb5o43ZypZirki6T3l+mkrwRbkBIqbwXozlmYPrKt4jA\n",
              "Vg70o7whrOyQcPZFyx7dDIz3FUBWOVegYC7un1euiSceevUk8xeOUdnwdRZ+nODv0ljfVEydPPvs\n",
              "008l5i735KJi1U/33TnMZFUU+cWF3sLbvLmDqZMK0T2j1WOhJ05k+/Kjzm1eXRR+iUZpZsd56mWP\n",
              "Dc2cKMRYRdVxvShDfIjQmcJ9Fu/MUm+NSptbz84oOoeHNU3JZKZgrb9mszZvWcsqUwbJqEmSIr1h\n",
              "Cn+WvY96nyx8RNYsjrnvzabqLr5ksKRr2PYLkp2jEkEhLCvF/q+ECOR2cWMeY6OAonKfjsDMtJMR\n",
              "wgMdpuacWHnLHBvVfXh3ft6ebAJCEYx17fXl0jTfYp10+BiJBQIKw7IDL6YolcoyON4iWMz3MKbC\n",
              "XCZn9tRh/WwlkwJpVv/ygOEcuAsSt+7BDrs85VGvUsGA5ptCN+sBD0XZqWyJPyN/vNqjR2tCEEqA\n",
              "tJGd7kBF8ztyJghs8iASWGwgQ1LfYp1Y28O0iGEczl4tVEHKVP38ND2uq2gw5TdFKRUkWdjalFHM\n",
              "P/Nq4Cosz6ygWYppohpI30W0ZIywXGAaiX+/6ctXvgHN1eEcCQw+8pWBAAAAxkGepUURLDf/AAAD\n",
              "AElqLiBACRZBwmzhfAE+brpXl8RXrrihKie8V+dpo3C0V3MiShsfQNPIB+agMP8sLHuf4rcJy2Pz\n",
              "Kjlyd/UtdQQlEa9pHyFbT6rGd0Jd9eaih5ywVEWYVnwsvrBdU9Cs/VIYhNO6EhoTgDjeCytM7Oyu\n",
              "CP/f4VN19kGmcfOQ96M4IeeanB0uERR+BlSuqmC8qCX9hCoeQwF11VsDXbxANF14mLRRC4GH5eLw\n",
              "lM7qUkmDYSKAAAPBQ+/UgQAAANoBnsZqQ38AAAMASV/Sq9/zBXWu5LdIC7bcwdRABCSd1YYkh3Xg\n",
              "+XW1Ts4HJsiImzxwsmqCnzSNbZ9c7flY0DmlLTrIVilSSvQuGPOn4ggHCBRAnV/cFT3Qf9E2O7/U\n",
              "gGaVMTuHwYnQXZLqmR5Y6kjF+EOhTYhxWbiW1M37LKmkQw0PSnFyrzz6qgGeIA2vmZ7keWhCgpzX\n",
              "41Wuss2nu4OJQVvEUBwvAgZ5RLWrBnTxeIOqZP8VXSlpXObk2eypLpC8fRwro3y7e/SpC/wO86bH\n",
              "IAALpZ0HH0GqYQAAAcBBmspJqEFsmUwIb//+p4QAAAMA0/JcAnKSMuN+iHCoWcP/lpmQprid1v5n\n",
              "RNaczc8mmAMM7HlMd3JhzCj6Yn/poAPV1Qr1rS45xvtq3PUKSWmDcIh1lH4u3L2xpdpZF5+U4iI8\n",
              "22974YXG5A/y6FQ56ncvCr3XUS+T41RN9PkMtRycenB8xBr+gTtQGAB6rGfJlPuLMQ8upOhapS9d\n",
              "s+kNqFp4zZvWcovRFn0eh51iP3cGnLA7pMCyRDd0KEGSYkIaMjHlZDPobTNer3ZjONMNjtVRgsUu\n",
              "8Gs4jo61kVkgKX3sYHQpBLfFfuF+hj7qw2Dumaymo8vLxJZjVO+OlM3ON3KBM8yWCoS3MDKxK2Py\n",
              "mmtglXXt6OXLUs53rFO8N8DI22s25/eoSCkYNs9D3YXLslzEzjLDJB8Dq/1ILWTbVZHN3+ypyVbS\n",
              "5Hk0UICyBkYY2tVEXxANFGZj6X02mafJN3bMvpKDs0eEUDccbyY00dg1/ON+Ix3a2JJGIjIW+u2M\n",
              "qkvYmBZgS85VoKL7xAnfMURoevHkK1Rutj7qB8zr04sR9hn0E/P0fJovK0IGV0Enx2iCjSApGkRH\n",
              "TdRK99iwAAAA0EGe6EUVLDf/AAADAEtrzS5+OWR91qG815H/WAAevuyYPT0BHTCRXVGjkGM4SPY9\n",
              "s0rPtcRAfclQD36fCmtqZWnjeJhT7IUXB1J3IwzcZjHOzv6r1nUgdmHj6AVTntHfwMEr/wl7Uhtd\n",
              "5n1LOchNlrfH45KH9PHRkHZh2K9dKJ9FBLPU4dQnBXyR4+/nzlMvdoRsE5NjuGpmHurHFLnHeC63\n",
              "ij/sMY6lRzQELLe585OHRoXz94tjNj/PXyejZIDhi9F0/I9Qsc9gYAACjR/UIWAAAADMAZ8JakN/\n",
              "AAADAEtrzRxCTUwaGK8uAEEnAlRDBR6iE00oUK7D7WSVDwduICN52q9IvvDJ8G3kUIr31tDM7krD\n",
              "LyG/GkiLeOzGv/3eNj+tmV+TrOoIV9PCNkrLJkBqxb0RXMzaLjR3s/2IIPzCITbT0hgLjM8kmbRr\n",
              "o9nZyNdByHiB51cJkKO4/m0ltKSGdCIKJ7cZ9CACKK/NE4TdjFi9FSni1LLV8G39EQwrUQ3GoqAu\n",
              "1SNU24MO78pgV/q8NKpR0HCdIOUwAAADACThAAAGmm1vb3YAAABsbXZoZAAAAAAAAAAAAAAAAAAA\n",
              "A+gAAB1MAAEAAAEAAAAAAAAAAAAAAAABAAAAAAAAAAAAAAAAAAAAAQAAAAAAAAAAAAAAAAAAQAAA\n",
              "AAAAAAAAAAAAAAAAAAAAAAAAAAAAAAAAAAAAAAIAAAXEdHJhawAAAFx0a2hkAAAAAwAAAAAAAAAA\n",
              "AAAAAQAAAAAAAB1MAAAAAAAAAAAAAAAAAAAAAAABAAAAAAAAAAAAAAAAAAAAAQAAAAAAAAAAAAAA\n",
              "AAAAQAAAAALQAAAC0AAAAAAAJGVkdHMAAAAcZWxzdAAAAAAAAAABAAAdTAAACAAAAQAAAAAFPG1k\n",
              "aWEAAAAgbWRoZAAAAAAAAAAAAAAAAAAAKAAAASwAVcQAAAAAAC1oZGxyAAAAAAAAAAB2aWRlAAAA\n",
              "AAAAAAAAAAAAVmlkZW9IYW5kbGVyAAAABOdtaW5mAAAAFHZtaGQAAAABAAAAAAAAAAAAAAAkZGlu\n",
              "ZgAAABxkcmVmAAAAAAAAAAEAAAAMdXJsIAAAAAEAAASnc3RibAAAALNzdHNkAAAAAAAAAAEAAACj\n",
              "YXZjMQAAAAAAAAABAAAAAAAAAAAAAAAAAAAAAALQAtAASAAAAEgAAAAAAAAAAQAAAAAAAAAAAAAA\n",
              "AAAAAAAAAAAAAAAAAAAAAAAAAAAAABj//wAAADFhdmNDAWQAH//hABhnZAAfrNlAtBboQAAAAwBA\n",
              "AAAFA8YMZYABAAZo6+PLIsAAAAAcdXVpZGtoQPJfJE/FujmlG88DI/MAAAAAAAAAGHN0dHMAAAAA\n",
              "AAAAAQAAAEsAAAQAAAAAFHN0c3MAAAAAAAAAAQAAAAEAAAJQY3R0cwAAAAAAAABIAAAAAQAACAAA\n",
              "AAABAAAMAAAAAAEAAAQAAAAAAQAADAAAAAABAAAEAAAAAAEAABQAAAAAAQAACAAAAAABAAAAAAAA\n",
              "AAEAAAQAAAAAAQAAFAAAAAABAAAIAAAAAAEAAAAAAAAAAQAABAAAAAABAAAUAAAAAAEAAAgAAAAA\n",
              "AQAAAAAAAAABAAAEAAAAAAEAAAwAAAAAAQAABAAAAAABAAAMAAAAAAEAAAQAAAAAAQAAFAAAAAAB\n",
              "AAAIAAAAAAEAAAAAAAAAAQAABAAAAAABAAAUAAAAAAEAAAgAAAAAAQAAAAAAAAABAAAEAAAAAAEA\n",
              "AAgAAAAAAQAAFAAAAAABAAAIAAAAAAEAAAAAAAAAAQAABAAAAAABAAAQAAAAAAIAAAQAAAAAAQAA\n",
              "DAAAAAABAAAEAAAAAAEAABQAAAAAAQAACAAAAAABAAAAAAAAAAEAAAQAAAAAAQAAFAAAAAABAAAI\n",
              "AAAAAAEAAAAAAAAAAQAABAAAAAABAAAUAAAAAAEAAAgAAAAAAQAAAAAAAAABAAAEAAAAAAEAABQA\n",
              "AAAAAQAACAAAAAABAAAAAAAAAAEAAAQAAAAAAQAADAAAAAABAAAEAAAAAAEAAAwAAAAAAQAABAAA\n",
              "AAABAAAUAAAAAAEAAAgAAAAAAQAAAAAAAAABAAAEAAAAAAEAAAwAAAAAAQAABAAAAAABAAAUAAAA\n",
              "AAEAAAgAAAAAAQAAAAAAAAABAAAEAAAAAAEAABAAAAAAAgAABAAAAAABAAAQAAAAAAIAAAQAAAAA\n",
              "HHN0c2MAAAAAAAAAAQAAAAEAAABLAAAAAQAAAUBzdHN6AAAAAAAAAAAAAABLAAAJfAAAAusAAACf\n",
              "AAACNAAAAIsAAAL6AAAA4wAAAHsAAACCAAAC+QAAAK4AAAByAAAAkwAAAxMAAADiAAAAkAAAAH8A\n",
              "AAJDAAAAhgAAAksAAACIAAAC5gAAAOQAAACZAAAAtQAAA6IAAADOAAAAogAAALcAAAH3AAADGQAA\n",
              "APEAAACaAAAAtAAAAxUAAADRAAAA3AAAAnUAAACVAAADVQAAANYAAACdAAAAnAAAAyYAAAD9AAAA\n",
              "swAAAKcAAAMVAAAA5AAAAKcAAACUAAACwgAAAPgAAAC3AAAAnwAAAocAAACtAAACXwAAAJoAAAL+\n",
              "AAAA+AAAAKAAAACuAAAB/AAAAK8AAAMBAAABEgAAAKQAAAC5AAACfgAAAMoAAADeAAABxAAAANQA\n",
              "AADQAAAAFHN0Y28AAAAAAAAAAQAAACwAAABidWR0YQAAAFptZXRhAAAAAAAAACFoZGxyAAAAAAAA\n",
              "AABtZGlyYXBwbAAAAAAAAAAAAAAAAC1pbHN0AAAAJal0b28AAAAdZGF0YQAAAAEAAAAATGF2ZjU3\n",
              "LjgzLjEwMA==\n",
              "\">\n",
              "  Your browser does not support the video tag.\n",
              "</video>"
            ]
          },
          "metadata": {},
          "execution_count": 20
        },
        {
          "output_type": "display_data",
          "data": {
            "text/plain": [
              "<Figure size 720x720 with 1 Axes>"
            ],
            "image/png": "[encoded data removed]"
          },
          "metadata": {
            "needs_background": "light"
          }
        }
      ],
      "metadata": {
        "id": "iUcSZTmrmzmL",
        "outputId": "ae19d39d-e5c6-4314-feae-123c73ad28f0",
        "colab": {
          "base_uri": "https://localhost:8080/",
          "height": 1000
        }
      }
    },
    {
      "cell_type": "markdown",
      "source": [
        "# Q.2 Derive the analytical Inverse kinematics of the above two DoF manipulator.[20 pts]"
      ],
      "metadata": {
        "id": "pglV1KjVvAb9"
      }
    },
    {
      "cell_type": "code",
      "source": [
        "def inverse_kinematics(x, y, l1, l2):\n",
        "  q1 = np.arccos((np.square(x) + np.square(y) - np.square(l1) - np.square(l2)) / (2 * l1 * l2)) #fill in your code here \n",
        "  q0 = np.arctan(y / x) - np.arccos((np.square(l1) - np.square(l2) + np.square(x) + np.square(y)) / (2 * l1 * np.sqrt(np.square(x) + np.square(y))))#fill in your code here \n",
        "  return np.array([q0, q1])"
      ],
      "metadata": {
        "id": "ZNUZDWuvvIDg"
      },
      "execution_count": 24,
      "outputs": []
    },
    {
      "cell_type": "code",
      "source": [
        "def test_inverse_kinematics(l1, l2):\n",
        "  \"\"\"\n",
        "  Test function for Inverse Kinematics\n",
        "  \"\"\"\n",
        "  x = 0.7 + np.linspace(0, 0.1, 4)\n",
        "  y = 0.7 + np.linspace(0, 0.1, 4)\n",
        "  sol = np.array([[-0.2675924,   2.10598112],\n",
        "                  [-0.24024978,  2.05129588],\n",
        "                  [-0.21244591,  1.99568815],\n",
        "                  [-0.18413395, 1.93906422]])\n",
        "  test_res = inverse_kinematics(x, y, l1, l2).T\n",
        "  if np.allclose(test_res, sol):\n",
        "    print('Your IK implementation is correct!!')\n",
        "  else:\n",
        "    print('Yours: ', test_res)\n",
        "    print('Soln: ', sol)\n",
        "    print('IK implemenation is wrong!')"
      ],
      "metadata": {
        "id": "ly8AYXE_74W6"
      },
      "execution_count": 25,
      "outputs": []
    },
    {
      "cell_type": "markdown",
      "source": [
        "**You can check the correctness of your code by calling the provided test function**"
      ],
      "metadata": {
        "id": "r60oB4DdKHH4"
      }
    },
    {
      "cell_type": "code",
      "source": [
        "test_inverse_kinematics(L1, L2)"
      ],
      "metadata": {
        "id": "OkeW6-ol8rJb",
        "outputId": "c6c536ec-88e0-4445-d6ec-f8c663cf9fa7",
        "colab": {
          "base_uri": "https://localhost:8080/"
        }
      },
      "execution_count": 26,
      "outputs": [
        {
          "output_type": "stream",
          "name": "stdout",
          "text": [
            "Your IK implementation is correct!!\n"
          ]
        }
      ]
    },
    {
      "cell_type": "markdown",
      "source": [
        "# Q.3 Trace a circle with the end-effector of the robot [5 pts]\n"
      ],
      "metadata": {
        "id": "rueqQERkwVcf"
      }
    },
    {
      "cell_type": "markdown",
      "source": [
        "**Trace a circle of radius $r = 0.4$ with origin at $(0.7, 0.7)$ with the end-effector of the robot.**\n",
        "\n",
        "**Hint: Use the following definition of the equation of a cicle of raduis $r$ and origin at $(x_0, y_0)$.** \n",
        "$$x = x_0 + r*cos(\\theta)$$\n",
        "$$x = y_0 + r*sin(\\theta)$$\n",
        "Where $\\theta \\in [0, 2\\pi]$"
      ],
      "metadata": {
        "id": "uE7oJCS5-h2c"
      }
    },
    {
      "cell_type": "markdown",
      "source": [
        "**Plot q1 and q2** "
      ],
      "metadata": {
        "id": "_gUzgUuFJiK9"
      }
    },
    {
      "cell_type": "code",
      "source": [
        "r = 0.4\n",
        "theta = np.linspace(0, 2*np.pi, N) \n",
        "x = 0.7 #fill in your code\n",
        "y = 0.7 #fill in your code\n",
        "q_ik = inverse_kinematics(x, y, 1, 1).T\n",
        "#Plot q1\n",
        "#fill your code here\n",
        "#Plot q2\n",
        "#fill your code here\n",
        "plt.show()\n"
      ],
      "metadata": {
        "id": "9wJI-zBrvh_c",
        "outputId": "3a7c8886-7b2b-4c19-a36f-b01b828f8453",
        "colab": {
          "base_uri": "https://localhost:8080/",
          "height": 265
        }
      },
      "execution_count": 29,
      "outputs": [
        {
          "output_type": "display_data",
          "data": {
            "text/plain": [
              "<Figure size 432x288 with 1 Axes>"
            ],
            "image/png": "[encoded data removed]"
          },
          "metadata": {
            "needs_background": "light"
          }
        }
      ]
    },
    {
      "cell_type": "markdown",
      "source": [
        "**Animate the manipulator**"
      ],
      "metadata": {
        "id": "wixc6It-J3s4"
      }
    },
    {
      "cell_type": "code",
      "source": [
        "anim = plot_planar_manipulator(q_ik, L1, L2, eff_path=np.array([x,y]).T)\n",
        "HTML(anim.to_html5_video())"
      ],
      "metadata": {
        "id": "ncFqFwJsJHEi",
        "outputId": "67283367-d22b-41f0-f397-3516b1ea0c0e",
        "colab": {
          "base_uri": "https://localhost:8080/",
          "height": 875
        }
      },
      "execution_count": 30,
      "outputs": [
        {
          "output_type": "error",
          "ename": "IndexError",
          "evalue": "ignored",
          "traceback": [
            "\u001b[0;31m---------------------------------------------------------------------------\u001b[0m",
            "\u001b[0;31mIndexError\u001b[0m                                Traceback (most recent call last)",
            "\u001b[0;32m<ipython-input-30-c36b0ee383b3>\u001b[0m in \u001b[0;36m<module>\u001b[0;34m\u001b[0m\n\u001b[0;32m----> 1\u001b[0;31m \u001b[0manim\u001b[0m \u001b[0;34m=\u001b[0m \u001b[0mplot_planar_manipulator\u001b[0m\u001b[0;34m(\u001b[0m\u001b[0mq_ik\u001b[0m\u001b[0;34m,\u001b[0m \u001b[0mL1\u001b[0m\u001b[0;34m,\u001b[0m \u001b[0mL2\u001b[0m\u001b[0;34m,\u001b[0m \u001b[0meff_path\u001b[0m\u001b[0;34m=\u001b[0m\u001b[0mnp\u001b[0m\u001b[0;34m.\u001b[0m\u001b[0marray\u001b[0m\u001b[0;34m(\u001b[0m\u001b[0;34m[\u001b[0m\u001b[0mx\u001b[0m\u001b[0;34m,\u001b[0m\u001b[0my\u001b[0m\u001b[0;34m]\u001b[0m\u001b[0;34m)\u001b[0m\u001b[0;34m.\u001b[0m\u001b[0mT\u001b[0m\u001b[0;34m)\u001b[0m\u001b[0;34m\u001b[0m\u001b[0;34m\u001b[0m\u001b[0m\n\u001b[0m\u001b[1;32m      2\u001b[0m \u001b[0mHTML\u001b[0m\u001b[0;34m(\u001b[0m\u001b[0manim\u001b[0m\u001b[0;34m.\u001b[0m\u001b[0mto_html5_video\u001b[0m\u001b[0;34m(\u001b[0m\u001b[0;34m)\u001b[0m\u001b[0;34m)\u001b[0m\u001b[0;34m\u001b[0m\u001b[0;34m\u001b[0m\u001b[0m\n",
            "\u001b[0;32m<ipython-input-17-e26f010d1094>\u001b[0m in \u001b[0;36mplot_planar_manipulator\u001b[0;34m(q, l1, l2, eff_path)\u001b[0m\n\u001b[1;32m      7\u001b[0m   \u001b[0meff\u001b[0m\u001b[0;34m,\u001b[0m \u001b[0;34m=\u001b[0m \u001b[0max\u001b[0m\u001b[0;34m.\u001b[0m\u001b[0mplot\u001b[0m\u001b[0;34m(\u001b[0m\u001b[0;34m[\u001b[0m\u001b[0;34m]\u001b[0m\u001b[0;34m,\u001b[0m \u001b[0;34m[\u001b[0m\u001b[0;34m]\u001b[0m\u001b[0;34m,\u001b[0m \u001b[0;34m'g'\u001b[0m\u001b[0;34m,\u001b[0m \u001b[0mmarker\u001b[0m\u001b[0;34m=\u001b[0m\u001b[0;34m'o'\u001b[0m\u001b[0;34m,\u001b[0m \u001b[0mmarkersize\u001b[0m\u001b[0;34m=\u001b[0m\u001b[0;36m15\u001b[0m\u001b[0;34m)\u001b[0m\u001b[0;34m\u001b[0m\u001b[0;34m\u001b[0m\u001b[0m\n\u001b[1;32m      8\u001b[0m   \u001b[0;32mif\u001b[0m \u001b[0meff_path\u001b[0m \u001b[0;32mis\u001b[0m \u001b[0;32mnot\u001b[0m \u001b[0;32mNone\u001b[0m\u001b[0;34m:\u001b[0m\u001b[0;34m\u001b[0m\u001b[0;34m\u001b[0m\u001b[0m\n\u001b[0;32m----> 9\u001b[0;31m     \u001b[0mep\u001b[0m\u001b[0;34m,\u001b[0m \u001b[0;34m=\u001b[0m \u001b[0max\u001b[0m\u001b[0;34m.\u001b[0m\u001b[0mplot\u001b[0m\u001b[0;34m(\u001b[0m\u001b[0meff_path\u001b[0m\u001b[0;34m[\u001b[0m\u001b[0;34m:\u001b[0m\u001b[0;34m,\u001b[0m \u001b[0;36m0\u001b[0m\u001b[0;34m]\u001b[0m\u001b[0;34m,\u001b[0m \u001b[0meff_path\u001b[0m\u001b[0;34m[\u001b[0m\u001b[0;34m:\u001b[0m\u001b[0;34m,\u001b[0m \u001b[0;36m1\u001b[0m\u001b[0;34m]\u001b[0m\u001b[0;34m,\u001b[0m \u001b[0;34m'g-'\u001b[0m\u001b[0;34m)\u001b[0m\u001b[0;34m\u001b[0m\u001b[0;34m\u001b[0m\u001b[0m\n\u001b[0m\u001b[1;32m     10\u001b[0m   \u001b[0max\u001b[0m\u001b[0;34m.\u001b[0m\u001b[0mset_xlim\u001b[0m\u001b[0;34m(\u001b[0m\u001b[0;34m(\u001b[0m \u001b[0;34m-\u001b[0m\u001b[0;36m2.5\u001b[0m\u001b[0;34m,\u001b[0m \u001b[0;36m2.5\u001b[0m\u001b[0;34m)\u001b[0m\u001b[0;34m)\u001b[0m\u001b[0;34m\u001b[0m\u001b[0;34m\u001b[0m\u001b[0m\n\u001b[1;32m     11\u001b[0m   \u001b[0max\u001b[0m\u001b[0;34m.\u001b[0m\u001b[0mset_ylim\u001b[0m\u001b[0;34m(\u001b[0m\u001b[0;34m(\u001b[0m\u001b[0;34m-\u001b[0m\u001b[0;36m2.5\u001b[0m\u001b[0;34m,\u001b[0m \u001b[0;36m2.5\u001b[0m\u001b[0;34m)\u001b[0m\u001b[0;34m)\u001b[0m\u001b[0;34m\u001b[0m\u001b[0;34m\u001b[0m\u001b[0m\n",
            "\u001b[0;31mIndexError\u001b[0m: too many indices for array: array is 1-dimensional, but 2 were indexed"
          ]
        },
        {
          "output_type": "display_data",
          "data": {
            "text/plain": [
              "<Figure size 720x720 with 1 Axes>"
            ],
            "image/png": "[encoded data removed]"
          },
          "metadata": {
            "needs_background": "light"
          }
        }
      ]
    }
  ],
  "metadata": {
    "celltoolbar": "Tags",
    "colab": {
      "collapsed_sections": [],
      "name": "Copy of planar_manipulator.ipynb",
      "provenance": []
    },
    "kernelspec": {
      "display_name": "Python 3",
      "language": "python",
      "name": "python3"
    },
    "language_info": {
      "codemirror_mode": {
        "name": "ipython",
        "version": 3
      },
      "file_extension": ".py",
      "mimetype": "text/x-python",
      "name": "python",
      "nbconvert_exporter": "python",
      "pygments_lexer": "ipython3",
      "version": "3.6.9"
    }
  },
  "nbformat": 4,
  "nbformat_minor": 0
}