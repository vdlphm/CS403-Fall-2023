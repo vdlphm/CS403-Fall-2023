{
  "cells": [
    {
      "cell_type": "markdown",
      "metadata": {
        "id": "view-in-github",
        "colab_type": "text"
      },
      "source": [
        "<a href=\"https://colab.research.google.com/github/vdlphm/CS403-Fall-2023/blob/main/hw7/hw7.ipynb\" target=\"_parent\"><img src=\"https://colab.research.google.com/assets/colab-badge.svg\" alt=\"Open In Colab\"/></a>"
      ]
    },
    {
      "cell_type": "markdown",
      "source": [
        "# **Homework 7 Cart-pole Dynamics Simulation**\n",
        "\n",
        "The goal of HW 7 is to create a dynamics simulation of a cart-pole system described in the figure below. \n",
        "\n",
        "<img src=\"https://github.com/DARoSLab/CS403-Intro-Robotics/blob/main/hws/hw7/cart-pole.png?raw=true\" width=\"450\">\n",
        "\n",
        "Use a generalized coordinate given in the figure. We give forward kinematics of important places of the system. \n",
        "\n",
        "\\begin{align}\n",
        "rA= \\begin{pmatrix}\n",
        "    x \\\\\n",
        "    0 \\\\\n",
        "    0\n",
        "     \\end{pmatrix},  &\n",
        "\\ rB = \\begin{pmatrix}\n",
        "    x + ccos(\\theta)  \\\\\n",
        "    csin(\\theta) \\\\\n",
        "    \\theta\n",
        "     \\end{pmatrix} \n",
        "\\\\[10pt]\n",
        "\\implies vA= \\begin{pmatrix}\n",
        "    \\dot{x} \\\\\n",
        "    0 \\\\\n",
        "    0\n",
        "     \\end{pmatrix}, &\n",
        "\\ vB = \\begin{pmatrix}\n",
        "    \\dot{x} -c\\dot{\\theta}sin(\\theta)  \\\\\n",
        "    c\\dot{\\theta}cos(\\theta) \\\\\n",
        "    \\dot{\\theta}\n",
        "     \\end{pmatrix}\n",
        "\\\\[10pt]\n",
        "\\implies aA= \\begin{pmatrix}\n",
        "    \\ddot{x} \\\\\n",
        "    0 \\\\\n",
        "    0\n",
        "     \\end{pmatrix}, &\n",
        "\\ aB = \\begin{pmatrix}\n",
        "    \\ddot{x} -c\\ddot{\\theta}sin(\\theta)-c\\dot{\\theta}^2cos(\\theta)  \\\\\n",
        "    c\\ddot{\\theta}cos(\\theta) - c\\dot{\\theta}^2sin(\\theta) \\\\\n",
        "    \\ddot{\\theta}\n",
        "     \\end{pmatrix}\n",
        "\\\\[10pt]\n",
        "\\end{align}"
      ],
      "metadata": {
        "id": "vsZX1nWw3o71"
      },
      "id": "vsZX1nWw3o71"
    },
    {
      "cell_type": "code",
      "source": [
        "import numpy as np \n",
        "import matplotlib.pyplot as plt \n",
        "import math \n",
        "import time \n",
        "import seaborn as sns\n",
        "from matplotlib import animation\n",
        "from IPython.display import HTML\n",
        "%matplotlib inline"
      ],
      "metadata": {
        "id": "pLtIbRYwQjDK"
      },
      "id": "pLtIbRYwQjDK",
      "execution_count": 76,
      "outputs": []
    },
    {
      "cell_type": "markdown",
      "source": [
        "# **Q.1 Dynamics of a cart-pole system**\n",
        "\n",
        "To make a dynamics simulation, we first need to complete the formula: \n",
        "\n",
        "$M \\ddot{q} + b (q, \\dot{q}) + g(q) = \\begin{pmatrix} f \\\\ \\tau \\end{pmatrix} $.\n",
        "\n",
        "Identify $M$, $b$, and $g$. Similar systems are used in the lecture and practice set. Please refer those. "
      ],
      "metadata": {
        "id": "piWkmKRRMjnF"
      },
      "id": "piWkmKRRMjnF"
    },
    {
      "cell_type": "markdown",
      "source": [
        "\n",
        "# Q.1.(a) [20 pts] Dynamics function \n",
        "Based on the given template code, complete the function returning the acceleration of the generalized coordinate: \n",
        "\n",
        "$\\ddot{q} = \\begin{pmatrix}\n",
        "\\ddot{x} \\\\ \\ddot{\\theta}\n",
        "\\end{pmatrix} = M^{-1}\\left( u - b -g \\right)$ \n"
      ],
      "metadata": {
        "id": "H7GkDM7xl5GQ"
      },
      "id": "H7GkDM7xl5GQ"
    },
    {
      "cell_type": "code",
      "source": [
        "def dynamics(q, u, params):\n",
        "  m1, m2, I2, c, g = params\n",
        "  x, th, xdot, thdot  = q.tolist()\n",
        "  \n",
        "  # Fill your code: define b (coriolis and centripetal), g (gravitational force), and M (mass matrix)\n",
        "  b = np.array(\n",
        "      [\n",
        "      -m2 * c * pow(thdot, 2) * np.cos(th),\n",
        "      0\n",
        "      ])\n",
        "  g = np.array(\n",
        "      [\n",
        "      0, \n",
        "      m2 * c * g * np.cos(th)\n",
        "      ])\n",
        "  M = np.array([\n",
        "      [\n",
        "          m1 + m2, \n",
        "       -m2 * c * np.sin(th)\n",
        "       ], \n",
        "      [\n",
        "          -m2 * c * np.sin(th), \n",
        "       I2 + m2 * pow(c, 2)\n",
        "       ]])\n",
        "  \n",
        "\n",
        "  qddot = np.linalg.inv(M) @ np.subtract(np.subtract(u, b), g)\n",
        "  return qddot"
      ],
      "metadata": {
        "id": "bGeuZ9J1NgSs"
      },
      "id": "bGeuZ9J1NgSs",
      "execution_count": 77,
      "outputs": []
    },
    {
      "cell_type": "code",
      "source": [
        "# Test function: No need to change\n",
        "def test_dynamics():\n",
        "  m1 = 0.5\n",
        "  m2 = 0.5\n",
        "  I2 = 1\n",
        "  c = 0.2\n",
        "  g = 9.81\n",
        "  dt = 0.005\n",
        "  tf = 10.0\n",
        "  params = [m1, m2, I2, c, g]\n",
        "  test_cases = np.array([[0.0, np.pi/4, 0.0, 0.0],\n",
        "                [0.5, -np.pi/4, 0.0, 0.0],\n",
        "                [0.0, 0, 0.5, 0.0],\n",
        "                [0.0, 0, 0.0, 5],\n",
        "                ])\n",
        "  soln = np.array([[-0.04832512, -0.68342045],\n",
        "                   [ 0.04832512, -0.68342045],\n",
        "                   [ 0.,         -0.96176471],\n",
        "                   [ 2.5,        -0.96176471]])\n",
        "  u = np.array([0, 0])\n",
        "  res = np.zeros((4, 2))\n",
        "  for i, q in enumerate(test_cases):\n",
        "    res[i, :] = dynamics(q, u, params)\n",
        "  assert np.allclose(res, soln), f\"your dynamics implementation is not correct: your result {res} != solution: \\n {soln}\"\n",
        "  print('Your implementation is correct!!')"
      ],
      "metadata": {
        "id": "0c2G_iTXl-uY"
      },
      "id": "0c2G_iTXl-uY",
      "execution_count": null,
      "outputs": []
    },
    {
      "cell_type": "code",
      "source": [
        "test_dynamics()"
      ],
      "metadata": {
        "id": "CX7BIC2Q112J",
        "outputId": "31962eef-c7bf-41ea-b164-0ca5952850a7",
        "colab": {
          "base_uri": "https://localhost:8080/"
        }
      },
      "id": "CX7BIC2Q112J",
      "execution_count": null,
      "outputs": [
        {
          "output_type": "stream",
          "name": "stdout",
          "text": [
            "Your implementation is correct!!\n"
          ]
        }
      ]
    },
    {
      "cell_type": "markdown",
      "source": [
        "# Q 1.1.(b) [15 pts] Dynamics simulation \n",
        "\n",
        "Complete the following function that finds state trajectory by using dynamics function we found in Q.1.1.(a). "
      ],
      "metadata": {
        "id": "9QYTAUujkiwq"
      },
      "id": "9QYTAUujkiwq"
    },
    {
      "cell_type": "code",
      "source": [
        "def simulate_cartpole(x0, params, tf=1.0, dt=0.01):\n",
        "  m1, m2, I2, c, g = params\n",
        "  num_step = int(np.floor(tf/dt));\n",
        "  tspan = np.linspace(0, tf, num_step); \n",
        "  x_out = np.zeros((4,num_step));\n",
        "  x_out[:,0] = x0;\n",
        "\n",
        "  q = x_out[:,0]\n",
        "  for i in range(num_step-1):\n",
        "      u = np.zeros(2).T # put zero since there is no motor input for Q.1.\n",
        "\n",
        "      # Fill your code: update the sequence of state (x_out) by utilizing the dynamcs function\n",
        "      # Hint: use semi-implicit Euler integration\n",
        "      qddot = dynamics(x_out[:, i - 1], u, params)\n",
        "      x_out[0, i] = q[0] + qddot[0] * pow(dt, 2)\n",
        "      x_out[1, i] = q[1] + qddot[1] * pow(dt, 2) \n",
        "      x_out[2, i] = q[2] + qddot[0] * dt\n",
        "      x_out[3, i] = q[3] + qddot[1] * dt\n",
        "      q = x_out[:, i]\n",
        "  \n",
        "  return x_out"
      ],
      "metadata": {
        "id": "GsWqc4vZkSs9"
      },
      "id": "GsWqc4vZkSs9",
      "execution_count": 85,
      "outputs": []
    },
    {
      "cell_type": "code",
      "source": [
        "# Use the given parameters: No need to change\n",
        "m1 = 0.5\n",
        "m2 = 0.5\n",
        "I2 = 1\n",
        "c = 0.2\n",
        "g = 9.81\n",
        "dt = 0.05\n",
        "tf = 10.0\n",
        "params = [m1, m2, I2, c, g]\n"
      ],
      "metadata": {
        "id": "OFRw4jHcn-W2"
      },
      "id": "OFRw4jHcn-W2",
      "execution_count": 83,
      "outputs": []
    },
    {
      "cell_type": "code",
      "source": [
        "# Cart-Pole visualization function: No need to change\n",
        "def visualize_cartpole(q_hist, params=[0.4, 0.4, 0.01], num_frames=100):\n",
        "  fig= plt.figure(figsize=(10,10))\n",
        "  ax = plt.subplot(1,1,1)   \n",
        "  c_l, p_l, dt = params\n",
        "  cart, = ax.plot([-0.5*c_l, 0.5*c_l], [0, 0], 'b', lw=10)\n",
        "  pole, = ax.plot([0, 0], [0, p_l], 'r', lw=10)\n",
        "  \n",
        "  txt_title = ax.set_title('')\n",
        "  \n",
        "  ax.set_xlim(( -1, 1))            \n",
        "  ax.set_ylim((-0.7, 1.3))\n",
        "  txt_title = ax.set_title('')\n",
        "  interval = len(q_hist)//num_frames\n",
        "  def drawFrame(k):\n",
        "    k = interval*k\n",
        "    x, theta = q_hist[k]\n",
        "\n",
        "    rA = [x, 0]\n",
        "    rC = [x + p_l*np.cos(theta), p_l*np.sin(theta)]\n",
        "    cart.set_data([x-0.5*c_l, x+0.5*c_l], [0, 0])\n",
        "    pole.set_data([rA[0], rC[0]], [rA[1], rC[1]])\n",
        "    txt_title.set_text(f't = {dt*k:.2f} sec')\n",
        "    return cart, pole\n",
        "  anim = animation.FuncAnimation(fig, drawFrame, frames=num_frames, interval=interval, blit=True)\n",
        "  return anim\n"
      ],
      "metadata": {
        "id": "Lb1FbGSfI9Uc"
      },
      "id": "Lb1FbGSfI9Uc",
      "execution_count": 86,
      "outputs": []
    },
    {
      "cell_type": "code",
      "source": [
        "# Simulation and animation code: No need to change\n",
        "x0 = np.array([0.0, np.pi/4, 0.0, 0.0]).T;\n",
        "x_out = simulate_cartpole(x0, params, tf=tf, dt=dt)\n",
        "anim = visualize_cartpole(x_out[:2, :].T, num_frames=50)\n",
        "plt.close()\n",
        "HTML(anim.to_html5_video())"
      ],
      "metadata": {
        "id": "48NCzY3opC27"
      },
      "id": "48NCzY3opC27",
      "execution_count": null,
      "outputs": []
    },
    {
      "cell_type": "markdown",
      "source": [
        "# Q.1.(c) [15 pts] Kinetic and Potential Energy\n",
        "\n",
        "Plot the kinetic, potential, and total energy of the system. \n",
        "\n",
        "Hint: use the equation, $T = \\frac{1}{2} \\dot{q}^{\\top}M\\dot{q}$, for kinetic energy computation."
      ],
      "metadata": {
        "id": "H2K8hY5VSf0e"
      },
      "id": "H2K8hY5VSf0e"
    },
    {
      "cell_type": "code",
      "source": [
        "def kinetic_energy(q, params):\n",
        "  m1, m2, I2, c, g = params\n",
        "\n",
        "  # Fill your code: complete the function return the profile of kinetic energy\n",
        "  T = (m1 * pow(q[2], 2) + \n",
        "       m2 * (pow(q[2], 2) + 2 * q[2] * q[3] * c * np.cos(q[1])) + \n",
        "       I2 * pow(q[3], 2))/2\n",
        "  return T\n",
        "\n",
        "def potential_energy(q, params):\n",
        "  m1, m2, I2, c, g = params\n",
        "\n",
        "  # Fill your code: complete the function return the profile of kinetic energy\n",
        "  P = m2 * g * c * np.sin(q[1])\n",
        "  return P"
      ],
      "metadata": {
        "id": "6XP_uvzhSDLO"
      },
      "id": "6XP_uvzhSDLO",
      "execution_count": null,
      "outputs": []
    },
    {
      "cell_type": "code",
      "source": [
        "# Kinematic, potential, and total energy plot: No need to change\n",
        "ke_hist = np.zeros(x_out.shape[1])\n",
        "pe_hist = np.zeros(x_out.shape[1])\n",
        "ts = np.arange(0, tf, dt)\n",
        "\n",
        "for i, x in enumerate(x_out.T):\n",
        "  ke_hist[i] = kinetic_energy(x, params)\n",
        "  pe_hist[i] = potential_energy(x, params)\n",
        "\n",
        "fig= plt.figure(figsize=(10,10))\n",
        "plt.plot(ts, ke_hist, label='Kinetic Energy')\n",
        "plt.plot(ts, pe_hist, label='Potential Energy')\n",
        "plt.plot(ts, pe_hist+ke_hist, label='Total Energy')\n",
        "plt.legend()\n",
        "plt.show()"
      ],
      "metadata": {
        "colab": {
          "base_uri": "https://localhost:8080/",
          "height": 592
        },
        "id": "yQ96CMWHtIUC",
        "outputId": "756b6747-8b68-4d9f-deaf-8809ead245d6"
      },
      "id": "yQ96CMWHtIUC",
      "execution_count": null,
      "outputs": [
        {
          "output_type": "display_data",
          "data": {
            "text/plain": [
              "<Figure size 720x720 with 1 Axes>"
            ],
            "image/png": "[encoded data removed]"
          },
          "metadata": {
            "needs_background": "light"
          }
        }
      ]
    },
    {
      "cell_type": "markdown",
      "source": [],
      "metadata": {
        "id": "ejyBYiwycQGj"
      },
      "id": "ejyBYiwycQGj"
    },
    {
      "cell_type": "markdown",
      "source": [
        "# Q.1.(d) [10 pts] Energy profile analysis\n",
        "\n",
        "Explain the meaning of energy profiles by correlating them with the system's behavior.\n"
      ],
      "metadata": {
        "id": "X_ityHfjS1Bc"
      },
      "id": "X_ityHfjS1Bc"
    },
    {
      "cell_type": "markdown",
      "source": [
        "Your answer: Since there is no outside force acting on our system, its total energy stays constant which results in a horizontal line in total energy. And this total energy is divided to kinetic and potential energy. That's why when kinetic increases, potential decreases. The peaks in potential are related to when the arm swings to its maximum height and those are also positions where the system change its direction resulting in kinetic energy to be zero. And when the arm is in its lowest position, we have potential to be minimum and the system is moving with maximum speed."
      ],
      "metadata": {
        "id": "immm216JcMz3"
      },
      "id": "immm216JcMz3"
    },
    {
      "cell_type": "markdown",
      "source": [
        "# **Q.2. The effect of damping** \n",
        "\n",
        "Now, let's consider the case when actuators operate like dampers. The first prismatic joint resists the joint motion with viscous friction efficiency of 0.5. Therefore, the formulation will be $f = -0.5\\  \\dot{x}$. For the second revolute joint, we will make the same viscous friction but with a coefficient of 10. Therefore, the formula is $\\tau = -10\\  \\dot{\\theta}$.  \n"
      ],
      "metadata": {
        "id": "aOlvXnv6TmX7"
      },
      "id": "aOlvXnv6TmX7"
    },
    {
      "cell_type": "markdown",
      "source": [
        "# Q.2.(a) [15 pts] Dynamics simulation of the cart-pole with the dampers.\n",
        "\n",
        "Complete the dynamics simulation code of the cart-pole system with the dampings explained above. "
      ],
      "metadata": {
        "id": "dMe-FEfmeY5x"
      },
      "id": "dMe-FEfmeY5x"
    },
    {
      "cell_type": "code",
      "source": [
        "def simulate_cartpole_damping(x0, params, tf=1.0, dt=0.01):\n",
        "  m1, m2, I2, c, g = params\n",
        "  num_step = int(np.floor(tf/dt));\n",
        "  tspan = np.linspace(0, tf, num_step); \n",
        "  x_out = np.zeros((4,num_step));\n",
        "  x_out[:,0] = x0;\n",
        "\n",
        "  for i in range(num_step-1):\n",
        "      # Fill your code: define the proper force and torque input \n",
        "      u = ...\n",
        "\n",
        "      # Fill your code: update the sequence of state (x_out) by utilizing the dynamcs function\n",
        "      # Hint: use semi-implicit Euler integration\n",
        "      qddot = dynamics(x_out[:, i - 1], u, params)\n",
        "      x_out[0, i] = q[0] + qddot[0] * pow(dt, 2)\n",
        "      x_out[1, i] = q[1] + qddot[1] * pow(dt, 2) \n",
        "      x_out[2, i] = q[2] + qddot[0] * dt\n",
        "      x_out[3, i] = q[3] + qddot[1] * dt\n",
        "      q = x_out[:, i]\n",
        "  \n",
        "  return x_out"
      ],
      "metadata": {
        "id": "jQ1mgoWgcW7Q"
      },
      "id": "jQ1mgoWgcW7Q",
      "execution_count": null,
      "outputs": []
    },
    {
      "cell_type": "code",
      "source": [
        "x0 = np.array([0.0, np.pi/4, 0.0, 0.0]).T;\n",
        "x_out_damped = simulate_cartpole_damping(x0, params, tf=tf, dt=dt)\n",
        "anim = visualize_cartpole(x_out_damped[:2, :].T, num_frames=50)\n",
        "plt.close()\n",
        "HTML(anim.to_html5_video())"
      ],
      "metadata": {
        "id": "9tdzUiEd1lr5"
      },
      "id": "9tdzUiEd1lr5",
      "execution_count": null,
      "outputs": []
    },
    {
      "cell_type": "markdown",
      "source": [
        "# Q.2.(b) [15 pts] Energy plot\n",
        "\n",
        "Plot the kinetic, potential, and total energy of system by refering the codes in Q.1.(c). "
      ],
      "metadata": {
        "id": "c6_CEsnJdESa"
      },
      "id": "c6_CEsnJdESa"
    },
    {
      "cell_type": "code",
      "source": [
        "ke_hist = np.zeros(x_out_damped.shape[1])\n",
        "pe_hist = np.zeros(x_out_damped.shape[1])\n",
        "ts = np.arange(0, tf, dt)\n",
        "\n",
        "# Fill our your code: \n",
        "for i, x in enumerate(x_out.T):\n",
        "  ke_hist[i] = kinetic_energy(x, params)\n",
        "  pe_hist[i] = potential_energy(x, params)\n",
        "\n",
        "fig= plt.figure(figsize=(10,10))\n",
        "plt.plot(ts, ke_hist, label='Kinetic Energy')\n",
        "plt.plot(ts, pe_hist, label='Potential Energy')\n",
        "plt.plot(ts, pe_hist+ke_hist, label='Total Energy')\n",
        "plt.legend()\n",
        "plt.show()"
      ],
      "metadata": {
        "colab": {
          "base_uri": "https://localhost:8080/",
          "height": 592
        },
        "id": "p50SfKXl1oH_",
        "outputId": "1d689cc9-0700-46a8-b1a1-54649e06698e"
      },
      "id": "p50SfKXl1oH_",
      "execution_count": null,
      "outputs": [
        {
          "output_type": "display_data",
          "data": {
            "text/plain": [
              "<Figure size 720x720 with 1 Axes>"
            ],
            "image/png": "[encoded data removed]"
          },
          "metadata": {
            "needs_background": "light"
          }
        }
      ]
    },
    {
      "cell_type": "markdown",
      "source": [
        "# Q.2.(c) [10 pts] Energy profile analysis\n",
        "\n",
        "Explain the meaning of energy profiles by correlating them with the system's behavior and the previous non-damping case.\n"
      ],
      "metadata": {
        "id": "bY0BlaDVd0Nl"
      },
      "id": "bY0BlaDVd0Nl"
    },
    {
      "cell_type": "markdown",
      "source": [
        "Your answer: Since we have friction in our system, the rotation of arm is countered by friction which cause the cart only have slight velocity."
      ],
      "metadata": {
        "id": "VQ_0kxusd6p0"
      },
      "id": "VQ_0kxusd6p0"
    }
  ],
  "metadata": {
    "kernelspec": {
      "display_name": "Python 3 (ipykernel)",
      "language": "python",
      "name": "python3"
    },
    "language_info": {
      "codemirror_mode": {
        "name": "ipython",
        "version": 3
      },
      "file_extension": ".py",
      "mimetype": "text/x-python",
      "name": "python",
      "nbconvert_exporter": "python",
      "pygments_lexer": "ipython3",
      "version": "3.8.13"
    },
    "colab": {
      "provenance": [],
      "collapsed_sections": [],
      "include_colab_link": true
    }
  },
  "nbformat": 4,
  "nbformat_minor": 5
}